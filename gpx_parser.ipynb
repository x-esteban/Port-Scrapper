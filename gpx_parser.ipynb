{
 "cells": [
  {
   "cell_type": "markdown",
   "id": "37c0d65b",
   "metadata": {},
   "source": [
    "# Creating a parser function to manipulate gpx files"
   ]
  },
  {
   "cell_type": "markdown",
   "id": "06cd820b",
   "metadata": {},
   "source": [
    "Our objecive is to create a function that can be fed *gpx* files and will compose a dataframe containing the most useful information of said route, as well as changing the name of the *gpx* file to one more easily accessed."
   ]
  },
  {
   "cell_type": "code",
   "execution_count": 1,
   "id": "b3c391bf",
   "metadata": {},
   "outputs": [],
   "source": [
    "#Importing our libraries.\n",
    "\n",
    "import pandas as pd\n",
    "import time\n",
    "import re\n",
    "import pathlib\n",
    "import os\n",
    "import gpxpy\n",
    "import gpxpy.gpx\n",
    "import time\n",
    "from pathlib import Path\n",
    "import os\n",
    "import random, string"
   ]
  },
  {
   "cell_type": "code",
   "execution_count": null,
   "id": "b6add7b7",
   "metadata": {},
   "outputs": [],
   "source": [
    "#Importing our list of names.\n",
    "\n",
    "names = pd.read_csv('names.csv')\n",
    "alpha = names['names'].tolist()"
   ]
  },
  {
   "cell_type": "code",
   "execution_count": 33,
   "id": "d0de577d",
   "metadata": {},
   "outputs": [],
   "source": [
    "#Our parser function.\n",
    "\n",
    "def parser(file, name):\n",
    "    try:\n",
    "        gpx_file = open(file, 'r') \n",
    "        gpx = gpxpy.parse(gpx_file) \n",
    "        coords = []\n",
    "        for track in gpx.tracks:\n",
    "            for segment in track.segments:        \n",
    "                for point in segment.points:\n",
    "                    coords.append(tuple([point.latitude, point.longitude]))\n",
    "        parsed_file = {'name': name,\n",
    "                       'original_name': track.name,\n",
    "                       's_la': coords[0][0],\n",
    "                       's_lo': coords[0][1],\n",
    "                       'f_la': coords[-1][0],\n",
    "                       'f_lo': coords[-1][1],\n",
    "                        'source': gpx.creator,\n",
    "                        'distance': track.length_3d()/1000, \n",
    "                        'climb': int(gpx.get_uphill_downhill()[0]),\n",
    "                        'min_alt': int(gpx.get_elevation_extremes()[0]),\n",
    "                        'max_alt': int(gpx.get_elevation_extremes()[1])}\n",
    "        with open(name + \".gpx\", \"w\") as f:\n",
    "            f.write(gpx.to_xml())\n",
    "        return parsed_file\n",
    "    except:\n",
    "        gpx_file = open(file, 'r', encoding='utf-8') \n",
    "        gpx = gpxpy.parse(gpx_file) \n",
    "        coords = []\n",
    "        for track in gpx.tracks:\n",
    "            for segment in track.segments:        \n",
    "                for point in segment.points:\n",
    "                    coords.append(tuple([point.latitude, point.longitude]))\n",
    "        parsed_file = {'name': name,\n",
    "                       'original_name': track.name,\n",
    "                       's_la': coords[0][0],\n",
    "                       's_lo': coords[0][1],\n",
    "                       'f_la': coords[-1][0],\n",
    "                       'f_lo': coords[-1][1],\n",
    "                        'source': gpx.creator,\n",
    "                        'distance': track.length_3d()/1000, \n",
    "                        'climb': int(gpx.get_uphill_downhill()[0]),\n",
    "                        'min_alt': int(gpx.get_elevation_extremes()[0]),\n",
    "                        'max_alt': int(gpx.get_elevation_extremes()[1])}\n",
    "        with open(name + \".gpx\", \"w\") as f:\n",
    "            f.write(gpx.to_xml())\n",
    "        return parsed_file"
   ]
  },
  {
   "cell_type": "code",
   "execution_count": 7,
   "id": "36bff6a6",
   "metadata": {},
   "outputs": [
    {
     "ename": "NameError",
     "evalue": "name 'gpx' is not defined",
     "output_type": "error",
     "traceback": [
      "\u001b[1;31m---------------------------------------------------------------------------\u001b[0m",
      "\u001b[1;31mNameError\u001b[0m                                 Traceback (most recent call last)",
      "\u001b[1;32m<ipython-input-7-f35dbde8aed1>\u001b[0m in \u001b[0;36m<module>\u001b[1;34m\u001b[0m\n\u001b[0;32m      1\u001b[0m \u001b[1;31m#Locating start and end of the track.\u001b[0m\u001b[1;33m\u001b[0m\u001b[1;33m\u001b[0m\u001b[1;33m\u001b[0m\u001b[0m\n\u001b[0;32m      2\u001b[0m \u001b[1;33m\u001b[0m\u001b[0m\n\u001b[1;32m----> 3\u001b[1;33m \u001b[0mdata\u001b[0m \u001b[1;33m=\u001b[0m \u001b[0mgpx\u001b[0m\u001b[1;33m.\u001b[0m\u001b[0mtracks\u001b[0m\u001b[1;33m[\u001b[0m\u001b[1;36m0\u001b[0m\u001b[1;33m]\u001b[0m\u001b[1;33m.\u001b[0m\u001b[0msegments\u001b[0m\u001b[1;33m[\u001b[0m\u001b[1;36m0\u001b[0m\u001b[1;33m]\u001b[0m\u001b[1;33m.\u001b[0m\u001b[0mpoints\u001b[0m\u001b[1;33m\u001b[0m\u001b[1;33m\u001b[0m\u001b[0m\n\u001b[0m\u001b[0;32m      4\u001b[0m \u001b[1;33m\u001b[0m\u001b[0m\n\u001b[0;32m      5\u001b[0m \u001b[0mstart\u001b[0m \u001b[1;33m=\u001b[0m \u001b[1;33m[\u001b[0m\u001b[0msegment\u001b[0m\u001b[1;33m.\u001b[0m\u001b[0mpoints\u001b[0m\u001b[1;33m[\u001b[0m\u001b[1;36m0\u001b[0m\u001b[1;33m]\u001b[0m\u001b[1;33m.\u001b[0m\u001b[0mlatitude\u001b[0m\u001b[1;33m,\u001b[0m\u001b[0msegment\u001b[0m\u001b[1;33m.\u001b[0m\u001b[0mpoints\u001b[0m\u001b[1;33m[\u001b[0m\u001b[1;36m0\u001b[0m\u001b[1;33m]\u001b[0m\u001b[1;33m.\u001b[0m\u001b[0mlongitude\u001b[0m\u001b[1;33m]\u001b[0m\u001b[1;33m\u001b[0m\u001b[1;33m\u001b[0m\u001b[0m\n",
      "\u001b[1;31mNameError\u001b[0m: name 'gpx' is not defined"
     ]
    }
   ],
   "source": [
    "#Locating start and end of the track.\n",
    "\n",
    "data = gpx.tracks[0].segments[0].points\n",
    "\n",
    "start = [segment.points[0].latitude,segment.points[0].longitude]\n",
    "end = [segment.points[-1].latitude,segment.points[-1].longitude]"
   ]
  },
  {
   "cell_type": "code",
   "execution_count": 35,
   "id": "eec6a62d",
   "metadata": {
    "scrolled": true
   },
   "outputs": [
    {
     "ename": "ValueError",
     "evalue": "If using all scalar values, you must pass an index",
     "output_type": "error",
     "traceback": [
      "\u001b[1;31m---------------------------------------------------------------------------\u001b[0m",
      "\u001b[1;31mValueError\u001b[0m                                Traceback (most recent call last)",
      "\u001b[1;32m<ipython-input-35-eb944d27475c>\u001b[0m in \u001b[0;36m<module>\u001b[1;34m\u001b[0m\n\u001b[0;32m      1\u001b[0m \u001b[1;31m#Testing it.\u001b[0m\u001b[1;33m\u001b[0m\u001b[1;33m\u001b[0m\u001b[1;33m\u001b[0m\u001b[0m\n\u001b[0;32m      2\u001b[0m \u001b[1;33m\u001b[0m\u001b[0m\n\u001b[1;32m----> 3\u001b[1;33m \u001b[0ma\u001b[0m \u001b[1;33m=\u001b[0m \u001b[0mpd\u001b[0m\u001b[1;33m.\u001b[0m\u001b[0mDataFrame\u001b[0m\u001b[1;33m(\u001b[0m\u001b[0mparser\u001b[0m\u001b[1;33m(\u001b[0m\u001b[1;34m'testfile.gpx'\u001b[0m\u001b[1;33m,\u001b[0m \u001b[1;34m'test'\u001b[0m\u001b[1;33m)\u001b[0m\u001b[1;33m)\u001b[0m\u001b[1;33m\u001b[0m\u001b[1;33m\u001b[0m\u001b[0m\n\u001b[0m\u001b[0;32m      4\u001b[0m \u001b[0ma\u001b[0m\u001b[1;33m.\u001b[0m\u001b[0mhead\u001b[0m\u001b[1;33m(\u001b[0m\u001b[1;33m)\u001b[0m\u001b[1;33m\u001b[0m\u001b[1;33m\u001b[0m\u001b[0m\n",
      "\u001b[1;32m~\\anaconda3\\lib\\site-packages\\pandas\\core\\frame.py\u001b[0m in \u001b[0;36m__init__\u001b[1;34m(self, data, index, columns, dtype, copy)\u001b[0m\n\u001b[0;32m    527\u001b[0m \u001b[1;33m\u001b[0m\u001b[0m\n\u001b[0;32m    528\u001b[0m         \u001b[1;32melif\u001b[0m \u001b[0misinstance\u001b[0m\u001b[1;33m(\u001b[0m\u001b[0mdata\u001b[0m\u001b[1;33m,\u001b[0m \u001b[0mdict\u001b[0m\u001b[1;33m)\u001b[0m\u001b[1;33m:\u001b[0m\u001b[1;33m\u001b[0m\u001b[1;33m\u001b[0m\u001b[0m\n\u001b[1;32m--> 529\u001b[1;33m             \u001b[0mmgr\u001b[0m \u001b[1;33m=\u001b[0m \u001b[0minit_dict\u001b[0m\u001b[1;33m(\u001b[0m\u001b[0mdata\u001b[0m\u001b[1;33m,\u001b[0m \u001b[0mindex\u001b[0m\u001b[1;33m,\u001b[0m \u001b[0mcolumns\u001b[0m\u001b[1;33m,\u001b[0m \u001b[0mdtype\u001b[0m\u001b[1;33m=\u001b[0m\u001b[0mdtype\u001b[0m\u001b[1;33m)\u001b[0m\u001b[1;33m\u001b[0m\u001b[1;33m\u001b[0m\u001b[0m\n\u001b[0m\u001b[0;32m    530\u001b[0m         \u001b[1;32melif\u001b[0m \u001b[0misinstance\u001b[0m\u001b[1;33m(\u001b[0m\u001b[0mdata\u001b[0m\u001b[1;33m,\u001b[0m \u001b[0mma\u001b[0m\u001b[1;33m.\u001b[0m\u001b[0mMaskedArray\u001b[0m\u001b[1;33m)\u001b[0m\u001b[1;33m:\u001b[0m\u001b[1;33m\u001b[0m\u001b[1;33m\u001b[0m\u001b[0m\n\u001b[0;32m    531\u001b[0m             \u001b[1;32mimport\u001b[0m \u001b[0mnumpy\u001b[0m\u001b[1;33m.\u001b[0m\u001b[0mma\u001b[0m\u001b[1;33m.\u001b[0m\u001b[0mmrecords\u001b[0m \u001b[1;32mas\u001b[0m \u001b[0mmrecords\u001b[0m\u001b[1;33m\u001b[0m\u001b[1;33m\u001b[0m\u001b[0m\n",
      "\u001b[1;32m~\\anaconda3\\lib\\site-packages\\pandas\\core\\internals\\construction.py\u001b[0m in \u001b[0;36minit_dict\u001b[1;34m(data, index, columns, dtype)\u001b[0m\n\u001b[0;32m    285\u001b[0m             \u001b[0marr\u001b[0m \u001b[1;32mif\u001b[0m \u001b[1;32mnot\u001b[0m \u001b[0mis_datetime64tz_dtype\u001b[0m\u001b[1;33m(\u001b[0m\u001b[0marr\u001b[0m\u001b[1;33m)\u001b[0m \u001b[1;32melse\u001b[0m \u001b[0marr\u001b[0m\u001b[1;33m.\u001b[0m\u001b[0mcopy\u001b[0m\u001b[1;33m(\u001b[0m\u001b[1;33m)\u001b[0m \u001b[1;32mfor\u001b[0m \u001b[0marr\u001b[0m \u001b[1;32min\u001b[0m \u001b[0marrays\u001b[0m\u001b[1;33m\u001b[0m\u001b[1;33m\u001b[0m\u001b[0m\n\u001b[0;32m    286\u001b[0m         ]\n\u001b[1;32m--> 287\u001b[1;33m     \u001b[1;32mreturn\u001b[0m \u001b[0marrays_to_mgr\u001b[0m\u001b[1;33m(\u001b[0m\u001b[0marrays\u001b[0m\u001b[1;33m,\u001b[0m \u001b[0mdata_names\u001b[0m\u001b[1;33m,\u001b[0m \u001b[0mindex\u001b[0m\u001b[1;33m,\u001b[0m \u001b[0mcolumns\u001b[0m\u001b[1;33m,\u001b[0m \u001b[0mdtype\u001b[0m\u001b[1;33m=\u001b[0m\u001b[0mdtype\u001b[0m\u001b[1;33m)\u001b[0m\u001b[1;33m\u001b[0m\u001b[1;33m\u001b[0m\u001b[0m\n\u001b[0m\u001b[0;32m    288\u001b[0m \u001b[1;33m\u001b[0m\u001b[0m\n\u001b[0;32m    289\u001b[0m \u001b[1;33m\u001b[0m\u001b[0m\n",
      "\u001b[1;32m~\\anaconda3\\lib\\site-packages\\pandas\\core\\internals\\construction.py\u001b[0m in \u001b[0;36marrays_to_mgr\u001b[1;34m(arrays, arr_names, index, columns, dtype, verify_integrity)\u001b[0m\n\u001b[0;32m     78\u001b[0m         \u001b[1;31m# figure out the index, if necessary\u001b[0m\u001b[1;33m\u001b[0m\u001b[1;33m\u001b[0m\u001b[1;33m\u001b[0m\u001b[0m\n\u001b[0;32m     79\u001b[0m         \u001b[1;32mif\u001b[0m \u001b[0mindex\u001b[0m \u001b[1;32mis\u001b[0m \u001b[1;32mNone\u001b[0m\u001b[1;33m:\u001b[0m\u001b[1;33m\u001b[0m\u001b[1;33m\u001b[0m\u001b[0m\n\u001b[1;32m---> 80\u001b[1;33m             \u001b[0mindex\u001b[0m \u001b[1;33m=\u001b[0m \u001b[0mextract_index\u001b[0m\u001b[1;33m(\u001b[0m\u001b[0marrays\u001b[0m\u001b[1;33m)\u001b[0m\u001b[1;33m\u001b[0m\u001b[1;33m\u001b[0m\u001b[0m\n\u001b[0m\u001b[0;32m     81\u001b[0m         \u001b[1;32melse\u001b[0m\u001b[1;33m:\u001b[0m\u001b[1;33m\u001b[0m\u001b[1;33m\u001b[0m\u001b[0m\n\u001b[0;32m     82\u001b[0m             \u001b[0mindex\u001b[0m \u001b[1;33m=\u001b[0m \u001b[0mensure_index\u001b[0m\u001b[1;33m(\u001b[0m\u001b[0mindex\u001b[0m\u001b[1;33m)\u001b[0m\u001b[1;33m\u001b[0m\u001b[1;33m\u001b[0m\u001b[0m\n",
      "\u001b[1;32m~\\anaconda3\\lib\\site-packages\\pandas\\core\\internals\\construction.py\u001b[0m in \u001b[0;36mextract_index\u001b[1;34m(data)\u001b[0m\n\u001b[0;32m    389\u001b[0m \u001b[1;33m\u001b[0m\u001b[0m\n\u001b[0;32m    390\u001b[0m         \u001b[1;32mif\u001b[0m \u001b[1;32mnot\u001b[0m \u001b[0mindexes\u001b[0m \u001b[1;32mand\u001b[0m \u001b[1;32mnot\u001b[0m \u001b[0mraw_lengths\u001b[0m\u001b[1;33m:\u001b[0m\u001b[1;33m\u001b[0m\u001b[1;33m\u001b[0m\u001b[0m\n\u001b[1;32m--> 391\u001b[1;33m             \u001b[1;32mraise\u001b[0m \u001b[0mValueError\u001b[0m\u001b[1;33m(\u001b[0m\u001b[1;34m\"If using all scalar values, you must pass an index\"\u001b[0m\u001b[1;33m)\u001b[0m\u001b[1;33m\u001b[0m\u001b[1;33m\u001b[0m\u001b[0m\n\u001b[0m\u001b[0;32m    392\u001b[0m \u001b[1;33m\u001b[0m\u001b[0m\n\u001b[0;32m    393\u001b[0m         \u001b[1;32mif\u001b[0m \u001b[0mhave_series\u001b[0m\u001b[1;33m:\u001b[0m\u001b[1;33m\u001b[0m\u001b[1;33m\u001b[0m\u001b[0m\n",
      "\u001b[1;31mValueError\u001b[0m: If using all scalar values, you must pass an index"
     ]
    }
   ],
   "source": [
    "#Testing it.\n",
    "\n",
    "a = pd.DataFrame(parser('testfile.gpx', 'test'))\n",
    "a.head()"
   ]
  },
  {
   "cell_type": "markdown",
   "id": "9e2de1b1",
   "metadata": {},
   "source": [
    "## Name generation"
   ]
  },
  {
   "cell_type": "code",
   "execution_count": 51,
   "id": "55db013a",
   "metadata": {},
   "outputs": [],
   "source": [
    "#Generating a list of names using alphanumeric characters.\n",
    "\n",
    "alpha = []\n",
    "\n",
    "for i in range(50000000):\n",
    "    x = ''.join(random.choice(string.ascii_lowercase + string.digits) for _ in range(6))\n",
    "    alpha.append(x)"
   ]
  },
  {
   "cell_type": "code",
   "execution_count": 121,
   "id": "f4decd7b",
   "metadata": {},
   "outputs": [],
   "source": [
    "#Dropping duplicate names.\n",
    "\n",
    "alpha = set(alpha)"
   ]
  },
  {
   "cell_type": "code",
   "execution_count": 122,
   "id": "1eecc52c",
   "metadata": {},
   "outputs": [
    {
     "data": {
      "text/plain": [
       "49430049"
      ]
     },
     "execution_count": 122,
     "metadata": {},
     "output_type": "execute_result"
    }
   ],
   "source": [
    "len(alpha)"
   ]
  },
  {
   "cell_type": "code",
   "execution_count": 61,
   "id": "bd9ddf4c",
   "metadata": {},
   "outputs": [],
   "source": [
    "#Storing our names as a dataframe for future use.\n",
    "\n",
    "names = pd.DataFrame(set(alpha), columns =['names'])"
   ]
  },
  {
   "cell_type": "code",
   "execution_count": 63,
   "id": "6bf1f988",
   "metadata": {},
   "outputs": [],
   "source": [
    "#Storing it.\n",
    "\n",
    "names.to_csv('names.csv', index=False)"
   ]
  },
  {
   "cell_type": "code",
   "execution_count": 150,
   "id": "1d51855a",
   "metadata": {},
   "outputs": [],
   "source": [
    "def gpx_creator():\n",
    "    \"\"\"\n",
    "    Input: none, but all target gpx files must be in a folder named 'gpx'.\n",
    "    \n",
    "    Output: new gpx files created as per 'parser' function.\n",
    "    \n",
    "    \"\"\"\n",
    "    start = time.time() #Starting our fimer.\n",
    "\n",
    "    directory = 'gpx' #The folder containing the gpx files.\n",
    "    parsed_list = []\n",
    "    \n",
    "    files = Path(directory).glob('*') #Using all files in the folder as input.\n",
    "    i = 0\n",
    "    for file in files:\n",
    "        name = alpha[i]\n",
    "        parsed_list.append(parser(file, name)) #Applying the previous function to every file.\n",
    "        i = i+1\n",
    "\n",
    "    stop = time.time() #Stopping our timer.\n",
    "    duration = (stop - start) / 60\n",
    "    \n",
    "    df = pd.DataFrame(parsed_list)\n",
    "    return df #Returning the elapsed minutes."
   ]
  },
  {
   "cell_type": "code",
   "execution_count": 2,
   "id": "1229f9a2",
   "metadata": {},
   "outputs": [],
   "source": [
    "names = pd.read_csv('names.csv')\n",
    "alpha = names['names'].tolist()"
   ]
  },
  {
   "cell_type": "code",
   "execution_count": 3,
   "id": "6e9f5a80",
   "metadata": {},
   "outputs": [],
   "source": [
    "alpha = names['names'].tolist()"
   ]
  },
  {
   "cell_type": "code",
   "execution_count": null,
   "id": "744c2f8a",
   "metadata": {},
   "outputs": [],
   "source": []
  }
 ],
 "metadata": {
  "kernelspec": {
   "display_name": "Python 3",
   "language": "python",
   "name": "python3"
  },
  "language_info": {
   "codemirror_mode": {
    "name": "ipython",
    "version": 3
   },
   "file_extension": ".py",
   "mimetype": "text/x-python",
   "name": "python",
   "nbconvert_exporter": "python",
   "pygments_lexer": "ipython3",
   "version": "3.8.8"
  },
  "toc": {
   "base_numbering": 1,
   "nav_menu": {},
   "number_sections": true,
   "sideBar": true,
   "skip_h1_title": false,
   "title_cell": "Table of Contents",
   "title_sidebar": "Contents",
   "toc_cell": false,
   "toc_position": {},
   "toc_section_display": true,
   "toc_window_display": false
  },
  "varInspector": {
   "cols": {
    "lenName": 16,
    "lenType": 16,
    "lenVar": 40
   },
   "kernels_config": {
    "python": {
     "delete_cmd_postfix": "",
     "delete_cmd_prefix": "del ",
     "library": "var_list.py",
     "varRefreshCmd": "print(var_dic_list())"
    },
    "r": {
     "delete_cmd_postfix": ") ",
     "delete_cmd_prefix": "rm(",
     "library": "var_list.r",
     "varRefreshCmd": "cat(var_dic_list()) "
    }
   },
   "types_to_exclude": [
    "module",
    "function",
    "builtin_function_or_method",
    "instance",
    "_Feature"
   ],
   "window_display": false
  }
 },
 "nbformat": 4,
 "nbformat_minor": 5
}
