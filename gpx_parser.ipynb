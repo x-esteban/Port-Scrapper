{
 "cells": [
  {
   "cell_type": "markdown",
   "id": "37c0d65b",
   "metadata": {},
   "source": [
    "# Creating a parser function to manipulate gpx files"
   ]
  },
  {
   "cell_type": "markdown",
   "id": "06cd820b",
   "metadata": {},
   "source": [
    "Our objecive is to create a function that can be fed *gpx* files and will compose a dataframe containing the most useful information of said route, as well as changing the name of the *gpx* file to one more easily accessed."
   ]
  },
  {
   "cell_type": "code",
   "execution_count": 3,
   "id": "b3c391bf",
   "metadata": {},
   "outputs": [],
   "source": [
    "#Importing our libraries.\n",
    "\n",
    "import pandas as pd\n",
    "import time\n",
    "import re\n",
    "import pathlib\n",
    "import os\n",
    "import gpxpy\n",
    "import gpxpy.gpx\n",
    "import time\n",
    "from pathlib import Path\n",
    "import os\n",
    "import random, string\n",
    "from geopy.geocoders import Nominatim\n",
    "import reverse_geocode\n",
    "import haversine as hs\n",
    "import requests\n",
    "from shapely.geometry import mapping, shape\n",
    "from shapely.prepared import prep\n",
    "from shapely.geometry import Point"
   ]
  },
  {
   "cell_type": "code",
   "execution_count": 2,
   "id": "b6add7b7",
   "metadata": {},
   "outputs": [],
   "source": [
    "#Importing our list of names.\n",
    "\n",
    "names = pd.read_csv('names.csv')\n",
    "alpha = names['names'].tolist()"
   ]
  },
  {
   "cell_type": "markdown",
   "id": "c73ae5b1",
   "metadata": {},
   "source": [
    "## Keeping only routes inside Spain"
   ]
  },
  {
   "cell_type": "markdown",
   "id": "7d8848ed",
   "metadata": {},
   "source": [
    "For the moment we only need routes that begin inside **Spain**, so it becomes necessary to determine a route's point of origin."
   ]
  },
  {
   "cell_type": "code",
   "execution_count": 4,
   "id": "002c2e6b",
   "metadata": {},
   "outputs": [
    {
     "name": "stdout",
     "output_type": "stream",
     "text": [
      "255\n",
      "Austria\n"
     ]
    }
   ],
   "source": [
    "#This function uses a Shapely file to determine if a point is within a country, and returns it.\n",
    "\n",
    "data = requests.get(\"https://raw.githubusercontent.com/datasets/geo-countries/master/data/countries.geojson\").json()\n",
    "\n",
    "countries = {}\n",
    "for feature in data[\"features\"]:\n",
    "    geom = feature[\"geometry\"]\n",
    "    country = feature[\"properties\"][\"ADMIN\"]\n",
    "    countries[country] = prep(shape(geom))\n",
    "\n",
    "print(len(countries))\n",
    "\n",
    "def get_country(lon, lat):\n",
    "    point = Point(lon, lat)\n",
    "    for country, geom in countries.items():\n",
    "        if geom.contains(point):\n",
    "            return country\n",
    "\n",
    "    return \"Unknown\"\n",
    "\n",
    "print(get_country(10.0, 47.0))"
   ]
  },
  {
   "cell_type": "markdown",
   "id": "007577e0",
   "metadata": {},
   "source": [
    "# Final function"
   ]
  },
  {
   "cell_type": "markdown",
   "id": "427233be",
   "metadata": {},
   "source": [
    "After much trial and error, additions and optimization this is the function I've come up with. "
   ]
  },
  {
   "cell_type": "code",
   "execution_count": null,
   "id": "93603a8a",
   "metadata": {},
   "outputs": [],
   "source": [
    "#Rewriting our parser function with the new method for determining start of a route:\n",
    "\n",
    "def parser(file, name):\n",
    "    try:\n",
    "        gpx_file = open(file, 'r') \n",
    "        gpx = gpxpy.parse(gpx_file) \n",
    "        data = gpx.tracks[0].segments[0].points\n",
    "        country = get_country(data[0].longitude, data[0].latitude)\n",
    "        parsed_file = {'name': name,\n",
    "                       'original_name': gpx.name,\n",
    "                        'source': gpx.creator,\n",
    "                        'country': country,\n",
    "                        'start': str(tuple([data[0].latitude, data[0].longitude])),\n",
    "                        'end': str(tuple([data[-1].latitude, data[-1].longitude])),\n",
    "                        'distance': gpx.length_3d()/1000, \n",
    "                        'climb': int(gpx.get_uphill_downhill()[0]),\n",
    "                        'min_alt': int(gpx.get_elevation_extremes()[0]),\n",
    "                        'max_alt': int(gpx.get_elevation_extremes()[1])}\n",
    "        if country == 'Spain':\n",
    "            with open('Spain/' + name + \".gpx\", \"w\") as f:\n",
    "                f.write(gpx.to_xml())\n",
    "                return parsed_file\n",
    "    except:\n",
    "        gpx_file = open(file, 'r', encoding='utf-8') \n",
    "        gpx = gpxpy.parse(gpx_file) \n",
    "        data = gpx.tracks[0].segments[0].points\n",
    "        country = get_country(data[0].longitude, data[0].latitude)\n",
    "        parsed_file = {'name': name,\n",
    "                       'original_name': gpx.name,\n",
    "                        'source': gpx.creator,\n",
    "                        'country': country,\n",
    "                        'start': str(tuple([data[0].latitude, data[0].longitude])),\n",
    "                        'end': str(tuple([data[-1].latitude, data[-1].longitude])),\n",
    "                        'distance': gpx.length_3d()/1000, \n",
    "                        'climb': int(gpx.get_uphill_downhill()[0]),\n",
    "                        'min_alt': int(gpx.get_elevation_extremes()[0]),\n",
    "                        'max_alt': int(gpx.get_elevation_extremes()[1])}\n",
    "        if country == 'Spain':\n",
    "            with open('Spain/' + name + \".gpx\", \"w\") as f:\n",
    "                f.write(gpx.to_xml())\n",
    "                return parsed_file\n",
    "            \n",
    "def gpx_creator():\n",
    "    df = pd.read_csv('df.csv')\n",
    "    \"\"\"\n",
    "    Input: none, but all target gpx files must be in a folder named 'gpx'.\n",
    "    \n",
    "    Output: new gpx files created as per 'parser' function.\n",
    "    \n",
    "    \"\"\"\n",
    "    start = time.time() #Starting our timer.\n",
    "\n",
    "    directory = 'gpx' #The folder containing the gpx files.\n",
    "    parsed_list = []\n",
    "    \n",
    "    files = Path(directory).glob('*') #Using all files in the folder as input.\n",
    "    i = len(df) + 1\n",
    "    for file in files:\n",
    "        try:\n",
    "            name = alpha[i]\n",
    "            parsed = parser(file, name)\n",
    "            if parsed != None:\n",
    "                parsed_list.append(parsed)\n",
    "                i = i+1\n",
    "        except:\n",
    "            pass\n",
    "\n",
    "    stop = time.time() #Stopping our timer.\n",
    "    duration = (stop - start) / 60\n",
    "    \n",
    "    df = pd.DataFrame(parsed_list)\n",
    "    df['circular'] = None\n",
    "    \n",
    "    for i in range(len(df)):\n",
    "        if hs.haversine(eval(df['start'].iloc[i]), eval(df['end'].iloc[i])) < 3:\n",
    "            df['circular'].iloc[i] = True\n",
    "        else:\n",
    "            df['circular'].iloc[i] = False\n",
    "        \n",
    "    return df #Returning the elapsed minutes.\n",
    "\n",
    "\n",
    "start = time.time()\n",
    "\n",
    "df_new = gpx_creator()\n",
    "\n",
    "stop = time.time() #Stopping our timer.\n",
    "duration = (stop - start) / 60\n",
    "\n",
    "print('Minutes:', duration)\n",
    "\n",
    "df_new.to_csv('df_new.csv', index=False)"
   ]
  }
 ],
 "metadata": {
  "kernelspec": {
   "display_name": "Python 3",
   "language": "python",
   "name": "python3"
  },
  "language_info": {
   "codemirror_mode": {
    "name": "ipython",
    "version": 3
   },
   "file_extension": ".py",
   "mimetype": "text/x-python",
   "name": "python",
   "nbconvert_exporter": "python",
   "pygments_lexer": "ipython3",
   "version": "3.8.8"
  },
  "toc": {
   "base_numbering": 1,
   "nav_menu": {},
   "number_sections": true,
   "sideBar": true,
   "skip_h1_title": false,
   "title_cell": "Table of Contents",
   "title_sidebar": "Contents",
   "toc_cell": false,
   "toc_position": {},
   "toc_section_display": true,
   "toc_window_display": false
  },
  "varInspector": {
   "cols": {
    "lenName": 16,
    "lenType": 16,
    "lenVar": 40
   },
   "kernels_config": {
    "python": {
     "delete_cmd_postfix": "",
     "delete_cmd_prefix": "del ",
     "library": "var_list.py",
     "varRefreshCmd": "print(var_dic_list())"
    },
    "r": {
     "delete_cmd_postfix": ") ",
     "delete_cmd_prefix": "rm(",
     "library": "var_list.r",
     "varRefreshCmd": "cat(var_dic_list()) "
    }
   },
   "types_to_exclude": [
    "module",
    "function",
    "builtin_function_or_method",
    "instance",
    "_Feature"
   ],
   "window_display": false
  }
 },
 "nbformat": 4,
 "nbformat_minor": 5
}
