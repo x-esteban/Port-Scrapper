{
 "cells": [
  {
   "cell_type": "markdown",
   "id": "37c0d65b",
   "metadata": {},
   "source": [
    "# Creating a parser function to manipulate gpx files"
   ]
  },
  {
   "cell_type": "markdown",
   "id": "06cd820b",
   "metadata": {},
   "source": [
    "Our objecive is to create a function that can be fed *gpx* files and will compose a dataframe containing the most useful information of said route, as well as changing the name of the *gpx* file to one more easily accessed."
   ]
  },
  {
   "cell_type": "code",
   "execution_count": 107,
   "id": "b3c391bf",
   "metadata": {},
   "outputs": [],
   "source": [
    "#Importing our libraries.\n",
    "\n",
    "import pandas as pd\n",
    "import time\n",
    "import re\n",
    "import pathlib\n",
    "import os\n",
    "import gpxpy\n",
    "import gpxpy.gpx\n",
    "import time\n",
    "from pathlib import Path\n",
    "import os\n",
    "import random, string\n",
    "from geopy.geocoders import Nominatim\n",
    "import reverse_geocode"
   ]
  },
  {
   "cell_type": "code",
   "execution_count": 2,
   "id": "b6add7b7",
   "metadata": {},
   "outputs": [],
   "source": [
    "#Importing our list of names.\n",
    "\n",
    "names = pd.read_csv('names.csv')\n",
    "alpha = names['names'].tolist()"
   ]
  },
  {
   "cell_type": "code",
   "execution_count": 24,
   "id": "d0de577d",
   "metadata": {},
   "outputs": [],
   "source": [
    "#Our parser function.\n",
    "\n",
    "def parser(file, name):\n",
    "    try:\n",
    "        gpx_file = open(file, 'r') \n",
    "        gpx = gpxpy.parse(gpx_file) \n",
    "        coords = []\n",
    "        for track in gpx.tracks:\n",
    "            for segment in track.segments:        \n",
    "                for point in segment.points:\n",
    "                    coords.append(tuple([point.latitude, point.longitude]))\n",
    "        parsed_file = {'name': name,\n",
    "                       'original_name': track.name,\n",
    "                        'source': gpx.creator,\n",
    "                        'start': str(tuple([coords[0][0], coords[0][1]])),\n",
    "                        'distance': track.length_3d()/1000, \n",
    "                        'climb': int(gpx.get_uphill_downhill()[0]),\n",
    "                        'min_alt': int(gpx.get_elevation_extremes()[0]),\n",
    "                        'max_alt': int(gpx.get_elevation_extremes()[1])}\n",
    "        with open('generated_gpx/' + name + \".gpx\", \"w\") as f:\n",
    "            f.write(gpx.to_xml())\n",
    "        return parsed_file\n",
    "    except:\n",
    "        gpx_file = open(file, 'r', encoding='utf-8') \n",
    "        gpx = gpxpy.parse(gpx_file) \n",
    "        coords = []\n",
    "        for track in gpx.tracks:\n",
    "            for segment in track.segments:        \n",
    "                for point in segment.points:\n",
    "                    coords.append(tuple([point.latitude, point.longitude]))\n",
    "        parsed_file = {'name': name,\n",
    "                       'original_name': track.name,\n",
    "                        'source': gpx.creator,\n",
    "                        'start': str(tuple([coords[0][0], coords[0][1]])),\n",
    "                        'distance': track.length_3d()/1000, \n",
    "                        'climb': int(gpx.get_uphill_downhill()[0]),\n",
    "                        'min_alt': int(gpx.get_elevation_extremes()[0]),\n",
    "                        'max_alt': int(gpx.get_elevation_extremes()[1])}\n",
    "        with open('generated_gpx/' + name + \".gpx\", \"w\") as f:\n",
    "            f.write(gpx.to_xml())\n",
    "        return parsed_file"
   ]
  },
  {
   "cell_type": "markdown",
   "id": "9e2de1b1",
   "metadata": {},
   "source": [
    "## Name generation"
   ]
  },
  {
   "cell_type": "code",
   "execution_count": 51,
   "id": "55db013a",
   "metadata": {},
   "outputs": [],
   "source": [
    "#Generating a list of names using alphanumeric characters.\n",
    "\n",
    "alpha = []\n",
    "\n",
    "for i in range(50000000):\n",
    "    x = ''.join(random.choice(string.ascii_lowercase + string.digits) for _ in range(6))\n",
    "    alpha.append(x)"
   ]
  },
  {
   "cell_type": "code",
   "execution_count": 121,
   "id": "f4decd7b",
   "metadata": {},
   "outputs": [],
   "source": [
    "#Dropping duplicate names.\n",
    "\n",
    "alpha = set(alpha)"
   ]
  },
  {
   "cell_type": "code",
   "execution_count": 122,
   "id": "1eecc52c",
   "metadata": {},
   "outputs": [
    {
     "data": {
      "text/plain": [
       "49430049"
      ]
     },
     "execution_count": 122,
     "metadata": {},
     "output_type": "execute_result"
    }
   ],
   "source": [
    "len(alpha)"
   ]
  },
  {
   "cell_type": "code",
   "execution_count": 61,
   "id": "bd9ddf4c",
   "metadata": {},
   "outputs": [],
   "source": [
    "#Storing our names as a dataframe for future use.\n",
    "\n",
    "names = pd.DataFrame(set(alpha), columns =['names'])"
   ]
  },
  {
   "cell_type": "code",
   "execution_count": 63,
   "id": "6bf1f988",
   "metadata": {},
   "outputs": [],
   "source": [
    "#Storing it.\n",
    "\n",
    "names.to_csv('names.csv', index=False)"
   ]
  },
  {
   "cell_type": "markdown",
   "id": "116fda8f",
   "metadata": {},
   "source": [
    "## Final function"
   ]
  },
  {
   "cell_type": "code",
   "execution_count": 213,
   "id": "1d51855a",
   "metadata": {},
   "outputs": [],
   "source": [
    "def gpx_creator():\n",
    "    \"\"\"\n",
    "    Input: none, but all target gpx files must be in a folder named 'gpx'.\n",
    "    \n",
    "    Output: new gpx files created as per 'parser' function.\n",
    "    \n",
    "    \"\"\"\n",
    "    start = time.time() #Starting our fimer.\n",
    "\n",
    "    directory = 'gpx' #The folder containing the gpx files.\n",
    "    parsed_list = []\n",
    "    \n",
    "    files = Path(directory).glob('*') #Using all files in the folder as input.\n",
    "    i = 0\n",
    "    for file in files:\n",
    "        name = alpha[i]\n",
    "        parsed_list.append(parser(file, name)) #Applying the previous function to every file.\n",
    "        i = i+1\n",
    "\n",
    "    stop = time.time() #Stopping our timer.\n",
    "    duration = (stop - start) / 60\n",
    "    \n",
    "    df = pd.DataFrame(parsed_list)\n",
    "    return df #Returning the elapsed minutes."
   ]
  },
  {
   "cell_type": "code",
   "execution_count": 17,
   "id": "c23de89f",
   "metadata": {},
   "outputs": [
    {
     "name": "stdout",
     "output_type": "stream",
     "text": [
      "Minutes: 0.09244021972020468\n"
     ]
    }
   ],
   "source": [
    "start = time.time()\n",
    "\n",
    "df = gpx_creator()\n",
    "\n",
    "stop = time.time() #Stopping our timer.\n",
    "duration = (stop - start) / 60\n",
    "\n",
    "print('Minutes:', duration)"
   ]
  },
  {
   "cell_type": "code",
   "execution_count": 18,
   "id": "44eb3d7c",
   "metadata": {},
   "outputs": [
    {
     "data": {
      "text/html": [
       "<div>\n",
       "<style scoped>\n",
       "    .dataframe tbody tr th:only-of-type {\n",
       "        vertical-align: middle;\n",
       "    }\n",
       "\n",
       "    .dataframe tbody tr th {\n",
       "        vertical-align: top;\n",
       "    }\n",
       "\n",
       "    .dataframe thead th {\n",
       "        text-align: right;\n",
       "    }\n",
       "</style>\n",
       "<table border=\"1\" class=\"dataframe\">\n",
       "  <thead>\n",
       "    <tr style=\"text-align: right;\">\n",
       "      <th></th>\n",
       "      <th>name</th>\n",
       "      <th>original_name</th>\n",
       "      <th>source</th>\n",
       "      <th>start</th>\n",
       "      <th>distance</th>\n",
       "      <th>climb</th>\n",
       "      <th>min_alt</th>\n",
       "      <th>max_alt</th>\n",
       "    </tr>\n",
       "  </thead>\n",
       "  <tbody>\n",
       "    <tr>\n",
       "      <th>0</th>\n",
       "      <td>54yu2w</td>\n",
       "      <td>besaide martxa 2011</td>\n",
       "      <td>Garmin Connect</td>\n",
       "      <td>(43.0696788802743, -2.47713318094611)</td>\n",
       "      <td>[35.65579643643311]</td>\n",
       "      <td>[1298]</td>\n",
       "      <td>[193]</td>\n",
       "      <td>[631]</td>\n",
       "    </tr>\n",
       "    <tr>\n",
       "      <th>1</th>\n",
       "      <td>00v5fe</td>\n",
       "      <td>Untitled</td>\n",
       "      <td>Garmin Connect</td>\n",
       "      <td>(37.1465449780226, -3.56366956606507)</td>\n",
       "      <td>[28.30995863439158]</td>\n",
       "      <td>[433]</td>\n",
       "      <td>[680]</td>\n",
       "      <td>[1054]</td>\n",
       "    </tr>\n",
       "    <tr>\n",
       "      <th>2</th>\n",
       "      <td>f4r9n2</td>\n",
       "      <td>Carretera costa Asterrika Baurdo</td>\n",
       "      <td>Garmin Connect</td>\n",
       "      <td>(43.3455239608884, -2.48506112024188)</td>\n",
       "      <td>[34.621333051583576]</td>\n",
       "      <td>[869]</td>\n",
       "      <td>[6]</td>\n",
       "      <td>[226]</td>\n",
       "    </tr>\n",
       "    <tr>\n",
       "      <th>3</th>\n",
       "      <td>lu6s5f</td>\n",
       "      <td>Circuito AlbuÃ±uelas</td>\n",
       "      <td>Garmin Connect</td>\n",
       "      <td>(37.1134440042078, -3.61588572151959)</td>\n",
       "      <td>[71.29276829383188]</td>\n",
       "      <td>[946]</td>\n",
       "      <td>[503]</td>\n",
       "      <td>[874]</td>\n",
       "    </tr>\n",
       "    <tr>\n",
       "      <th>4</th>\n",
       "      <td>rgxaz9</td>\n",
       "      <td>prova</td>\n",
       "      <td>Garmin Connect</td>\n",
       "      <td>(41.6769059747458, 1.2808879930526)</td>\n",
       "      <td>[53.19353112278639]</td>\n",
       "      <td>[677]</td>\n",
       "      <td>[485]</td>\n",
       "      <td>[767]</td>\n",
       "    </tr>\n",
       "  </tbody>\n",
       "</table>\n",
       "</div>"
      ],
      "text/plain": [
       "     name                     original_name          source  \\\n",
       "0  54yu2w               besaide martxa 2011  Garmin Connect   \n",
       "1  00v5fe                          Untitled  Garmin Connect   \n",
       "2  f4r9n2  Carretera costa Asterrika Baurdo  Garmin Connect   \n",
       "3  lu6s5f              Circuito AlbuÃ±uelas  Garmin Connect   \n",
       "4  rgxaz9                             prova  Garmin Connect   \n",
       "\n",
       "                                   start              distance   climb  \\\n",
       "0  (43.0696788802743, -2.47713318094611)   [35.65579643643311]  [1298]   \n",
       "1  (37.1465449780226, -3.56366956606507)   [28.30995863439158]   [433]   \n",
       "2  (43.3455239608884, -2.48506112024188)  [34.621333051583576]   [869]   \n",
       "3  (37.1134440042078, -3.61588572151959)   [71.29276829383188]   [946]   \n",
       "4    (41.6769059747458, 1.2808879930526)   [53.19353112278639]   [677]   \n",
       "\n",
       "  min_alt max_alt  \n",
       "0   [193]   [631]  \n",
       "1   [680]  [1054]  \n",
       "2     [6]   [226]  \n",
       "3   [503]   [874]  \n",
       "4   [485]   [767]  "
      ]
     },
     "execution_count": 18,
     "metadata": {},
     "output_type": "execute_result"
    }
   ],
   "source": [
    "df.head()"
   ]
  },
  {
   "cell_type": "code",
   "execution_count": 79,
   "id": "5d63df3e",
   "metadata": {
    "scrolled": false
   },
   "outputs": [
    {
     "name": "stdout",
     "output_type": "stream",
     "text": [
      "<class 'pandas.core.frame.DataFrame'>\n",
      "RangeIndex: 10000 entries, 0 to 9999\n",
      "Data columns (total 8 columns):\n",
      " #   Column         Non-Null Count  Dtype \n",
      "---  ------         --------------  ----- \n",
      " 0   name           10000 non-null  object\n",
      " 1   original_name  10000 non-null  object\n",
      " 2   source         10000 non-null  object\n",
      " 3   start          10000 non-null  object\n",
      " 4   distance       10000 non-null  object\n",
      " 5   climb          10000 non-null  object\n",
      " 6   min_alt        10000 non-null  object\n",
      " 7   max_alt        10000 non-null  object\n",
      "dtypes: object(8)\n",
      "memory usage: 625.1+ KB\n"
     ]
    }
   ],
   "source": [
    "df.info()"
   ]
  },
  {
   "cell_type": "markdown",
   "id": "b75ac0cc",
   "metadata": {},
   "source": [
    "## TESTING"
   ]
  },
  {
   "cell_type": "code",
   "execution_count": 35,
   "id": "3c5405c6",
   "metadata": {},
   "outputs": [],
   "source": [
    "#Our parser function.\n",
    "\n",
    "def parser(file, name):\n",
    "    try:\n",
    "        gpx_file = open(file, 'r') \n",
    "        gpx = gpxpy.parse(gpx_file) \n",
    "        coords = []\n",
    "        for track in gpx.tracks:\n",
    "            for segment in track.segments:        \n",
    "                for point in segment.points:\n",
    "                    coords.append(tuple([point.latitude, point.longitude]))\n",
    "        parsed_file = {'name': name,\n",
    "                       'original_name': track.name,\n",
    "                        'source': gpx.creator,\n",
    "                        'start': str(tuple([coords[0][0], coords[0][1]])),\n",
    "                        'distance': track.length_3d()/1000, \n",
    "                        'climb': int(gpx.get_uphill_downhill()[0]),\n",
    "                        'min_alt': int(gpx.get_elevation_extremes()[0]),\n",
    "                        'max_alt': int(gpx.get_elevation_extremes()[1])}\n",
    "        with open('generated_gpx/' + name + \".gpx\", \"w\") as f:\n",
    "            f.write(gpx.to_xml())\n",
    "        return parsed_file\n",
    "    except:\n",
    "        gpx_file = open(file, 'r', encoding='utf-8') \n",
    "        gpx = gpxpy.parse(gpx_file) \n",
    "        coords = []\n",
    "        for track in gpx.tracks:\n",
    "            for segment in track.segments:        \n",
    "                for point in segment.points:\n",
    "                    coords.append(tuple([point.latitude, point.longitude]))\n",
    "        parsed_file = {'name': name,\n",
    "                       'original_name': track.name,\n",
    "                        'source': gpx.creator,\n",
    "                        'start': str(tuple([coords[0][0], coords[0][1]])),\n",
    "                        'distance': track.length_3d()/1000, \n",
    "                        'climb': int(gpx.get_uphill_downhill()[0]),\n",
    "                        'min_alt': int(gpx.get_elevation_extremes()[0]),\n",
    "                        'max_alt': int(gpx.get_elevation_extremes()[1])}\n",
    "        with open('generated_gpx/' + name + \".gpx\", \"w\") as f:\n",
    "            f.write(gpx.to_xml())\n",
    "        return parsed_file"
   ]
  },
  {
   "cell_type": "code",
   "execution_count": 36,
   "id": "93f22ee7",
   "metadata": {},
   "outputs": [
    {
     "name": "stdout",
     "output_type": "stream",
     "text": [
      "Minutes: 0.08963996569315592\n"
     ]
    }
   ],
   "source": [
    "start = time.time()\n",
    "\n",
    "df = gpx_creator()\n",
    "\n",
    "stop = time.time() #Stopping our timer.\n",
    "duration = (stop - start) / 60\n",
    "\n",
    "print('Minutes:', duration)"
   ]
  },
  {
   "cell_type": "code",
   "execution_count": 37,
   "id": "d0f75f66",
   "metadata": {},
   "outputs": [
    {
     "data": {
      "text/html": [
       "<div>\n",
       "<style scoped>\n",
       "    .dataframe tbody tr th:only-of-type {\n",
       "        vertical-align: middle;\n",
       "    }\n",
       "\n",
       "    .dataframe tbody tr th {\n",
       "        vertical-align: top;\n",
       "    }\n",
       "\n",
       "    .dataframe thead th {\n",
       "        text-align: right;\n",
       "    }\n",
       "</style>\n",
       "<table border=\"1\" class=\"dataframe\">\n",
       "  <thead>\n",
       "    <tr style=\"text-align: right;\">\n",
       "      <th></th>\n",
       "      <th>name</th>\n",
       "      <th>original_name</th>\n",
       "      <th>source</th>\n",
       "      <th>start</th>\n",
       "      <th>distance</th>\n",
       "      <th>climb</th>\n",
       "      <th>min_alt</th>\n",
       "      <th>max_alt</th>\n",
       "    </tr>\n",
       "  </thead>\n",
       "  <tbody>\n",
       "    <tr>\n",
       "      <th>0</th>\n",
       "      <td>54yu2w</td>\n",
       "      <td>besaide martxa 2011</td>\n",
       "      <td>Garmin Connect</td>\n",
       "      <td>(43.0696788802743, -2.47713318094611)</td>\n",
       "      <td>35.655796</td>\n",
       "      <td>1298</td>\n",
       "      <td>193</td>\n",
       "      <td>631</td>\n",
       "    </tr>\n",
       "    <tr>\n",
       "      <th>1</th>\n",
       "      <td>00v5fe</td>\n",
       "      <td>Untitled</td>\n",
       "      <td>Garmin Connect</td>\n",
       "      <td>(37.1465449780226, -3.56366956606507)</td>\n",
       "      <td>28.309959</td>\n",
       "      <td>433</td>\n",
       "      <td>680</td>\n",
       "      <td>1054</td>\n",
       "    </tr>\n",
       "    <tr>\n",
       "      <th>2</th>\n",
       "      <td>f4r9n2</td>\n",
       "      <td>Carretera costa Asterrika Baurdo</td>\n",
       "      <td>Garmin Connect</td>\n",
       "      <td>(43.3455239608884, -2.48506112024188)</td>\n",
       "      <td>34.621333</td>\n",
       "      <td>869</td>\n",
       "      <td>6</td>\n",
       "      <td>226</td>\n",
       "    </tr>\n",
       "    <tr>\n",
       "      <th>3</th>\n",
       "      <td>lu6s5f</td>\n",
       "      <td>Circuito AlbuÃ±uelas</td>\n",
       "      <td>Garmin Connect</td>\n",
       "      <td>(37.1134440042078, -3.61588572151959)</td>\n",
       "      <td>71.292768</td>\n",
       "      <td>946</td>\n",
       "      <td>503</td>\n",
       "      <td>874</td>\n",
       "    </tr>\n",
       "    <tr>\n",
       "      <th>4</th>\n",
       "      <td>rgxaz9</td>\n",
       "      <td>prova</td>\n",
       "      <td>Garmin Connect</td>\n",
       "      <td>(41.6769059747458, 1.2808879930526)</td>\n",
       "      <td>53.193531</td>\n",
       "      <td>677</td>\n",
       "      <td>485</td>\n",
       "      <td>767</td>\n",
       "    </tr>\n",
       "  </tbody>\n",
       "</table>\n",
       "</div>"
      ],
      "text/plain": [
       "     name                     original_name          source  \\\n",
       "0  54yu2w               besaide martxa 2011  Garmin Connect   \n",
       "1  00v5fe                          Untitled  Garmin Connect   \n",
       "2  f4r9n2  Carretera costa Asterrika Baurdo  Garmin Connect   \n",
       "3  lu6s5f              Circuito AlbuÃ±uelas  Garmin Connect   \n",
       "4  rgxaz9                             prova  Garmin Connect   \n",
       "\n",
       "                                   start   distance  climb  min_alt  max_alt  \n",
       "0  (43.0696788802743, -2.47713318094611)  35.655796   1298      193      631  \n",
       "1  (37.1465449780226, -3.56366956606507)  28.309959    433      680     1054  \n",
       "2  (43.3455239608884, -2.48506112024188)  34.621333    869        6      226  \n",
       "3  (37.1134440042078, -3.61588572151959)  71.292768    946      503      874  \n",
       "4    (41.6769059747458, 1.2808879930526)  53.193531    677      485      767  "
      ]
     },
     "execution_count": 37,
     "metadata": {},
     "output_type": "execute_result"
    }
   ],
   "source": [
    "df.head()"
   ]
  },
  {
   "cell_type": "markdown",
   "id": "3c3ed041",
   "metadata": {},
   "source": [
    "## Assigning country to each route"
   ]
  },
  {
   "cell_type": "markdown",
   "id": "b7b81bc5",
   "metadata": {},
   "source": [
    "For this purpose we'll be using *Nominatim*."
   ]
  },
  {
   "cell_type": "code",
   "execution_count": 39,
   "id": "3fcacd86",
   "metadata": {},
   "outputs": [],
   "source": [
    "#Initializing an instance.\n",
    "\n",
    "app = Nominatim(user_agent=\"tutorial\")"
   ]
  },
  {
   "cell_type": "code",
   "execution_count": 45,
   "id": "74d562e5",
   "metadata": {},
   "outputs": [],
   "source": [
    "#Testing a function I found online:\n",
    "\n",
    "def get_address_by_location(latitude, longitude, language=\"en\"):\n",
    "    \"\"\"This function returns an address as raw from a location\n",
    "    will repeat until success\"\"\"\n",
    "    # build coordinates string to pass to reverse() function\n",
    "    coordinates = f\"{latitude}, {longitude}\"\n",
    "    # sleep for a second to respect Usage Policy\n",
    "    time.sleep(1)\n",
    "    try:\n",
    "        return app.reverse(coordinates, language=language).raw\n",
    "    except:\n",
    "        return get_address_by_location(latitude, longitude)"
   ]
  },
  {
   "cell_type": "code",
   "execution_count": 145,
   "id": "b9a7cea3",
   "metadata": {},
   "outputs": [],
   "source": [
    "#Testing the function.\n",
    "\n",
    "address = get_address_by_location(41.6769059747458, 1.2808879930526)"
   ]
  },
  {
   "cell_type": "code",
   "execution_count": 146,
   "id": "6bb73dd5",
   "metadata": {},
   "outputs": [
    {
     "data": {
      "text/plain": [
       "'Spain'"
      ]
     },
     "execution_count": 146,
     "metadata": {},
     "output_type": "execute_result"
    }
   ],
   "source": [
    "#Accessing the country.\n",
    "\n",
    "address['address']['country']"
   ]
  },
  {
   "cell_type": "code",
   "execution_count": 93,
   "id": "14713ebb",
   "metadata": {},
   "outputs": [],
   "source": [
    "#Incorporating the function into our parser:\n",
    "\n",
    "#Our parser function.\n",
    "\n",
    "def parser(file, name):\n",
    "    try:\n",
    "        gpx_file = open(file, 'r') \n",
    "        gpx = gpxpy.parse(gpx_file) \n",
    "        coords = []\n",
    "        for track in gpx.tracks:\n",
    "            for segment in track.segments:        \n",
    "                for point in segment.points:\n",
    "                    coords.append(tuple([point.latitude, point.longitude]))\n",
    "        country = get_address_by_location(coords[0][0], coords[0][1])['address']['country']\n",
    "        parsed_file = {'name': name,\n",
    "                       'original_name': track.name,\n",
    "                        'source': gpx.creator,\n",
    "                        'country': country,\n",
    "                        'start': str(tuple([coords[0][0], coords[0][1]])),\n",
    "                        'distance': track.length_3d()/1000, \n",
    "                        'climb': int(gpx.get_uphill_downhill()[0]),\n",
    "                        'min_alt': int(gpx.get_elevation_extremes()[0]),\n",
    "                        'max_alt': int(gpx.get_elevation_extremes()[1])}\n",
    "        with open('generated_gpx/' + name + \".gpx\", \"w\") as f:\n",
    "            f.write(gpx.to_xml())\n",
    "        return parsed_file\n",
    "    except:\n",
    "        gpx_file = open(file, 'r', encoding='utf-8') \n",
    "        gpx = gpxpy.parse(gpx_file) \n",
    "        coords = []\n",
    "        for track in gpx.tracks:\n",
    "            for segment in track.segments:        \n",
    "                for point in segment.points:\n",
    "                    coords.append(tuple([point.latitude, point.longitude]))\n",
    "        country = get_address_by_location(coords[0][0], coords[0][1])['address']['country']\n",
    "        parsed_file = {'name': name,\n",
    "                       'original_name': track.name,\n",
    "                        'source': gpx.creator,\n",
    "                        'country': country,\n",
    "                        'start': str(tuple([coords[0][0], coords[0][1]])),\n",
    "                        'distance': track.length_3d()/1000, \n",
    "                        'climb': int(gpx.get_uphill_downhill()[0]),\n",
    "                        'min_alt': int(gpx.get_elevation_extremes()[0]),\n",
    "                        'max_alt': int(gpx.get_elevation_extremes()[1])}\n",
    "        with open('generated_gpx/' + name + \".gpx\", \"w\") as f:\n",
    "            f.write(gpx.to_xml())\n",
    "        return parsed_file"
   ]
  },
  {
   "cell_type": "code",
   "execution_count": 94,
   "id": "4e431646",
   "metadata": {},
   "outputs": [
    {
     "name": "stdout",
     "output_type": "stream",
     "text": [
      "Minutes: 1.9374013145764668\n"
     ]
    }
   ],
   "source": [
    "#Testing our new parser function:\n",
    "\n",
    "start = time.time()\n",
    "\n",
    "df = gpx_creator()\n",
    "\n",
    "stop = time.time() #Stopping our timer.\n",
    "duration = (stop - start) / 60\n",
    "\n",
    "print('Minutes:', duration)"
   ]
  },
  {
   "cell_type": "code",
   "execution_count": 97,
   "id": "2cea7e2d",
   "metadata": {
    "scrolled": true
   },
   "outputs": [
    {
     "data": {
      "text/html": [
       "<div>\n",
       "<style scoped>\n",
       "    .dataframe tbody tr th:only-of-type {\n",
       "        vertical-align: middle;\n",
       "    }\n",
       "\n",
       "    .dataframe tbody tr th {\n",
       "        vertical-align: top;\n",
       "    }\n",
       "\n",
       "    .dataframe thead th {\n",
       "        text-align: right;\n",
       "    }\n",
       "</style>\n",
       "<table border=\"1\" class=\"dataframe\">\n",
       "  <thead>\n",
       "    <tr style=\"text-align: right;\">\n",
       "      <th></th>\n",
       "      <th>name</th>\n",
       "      <th>original_name</th>\n",
       "      <th>source</th>\n",
       "      <th>country</th>\n",
       "      <th>start</th>\n",
       "      <th>distance</th>\n",
       "      <th>climb</th>\n",
       "      <th>min_alt</th>\n",
       "      <th>max_alt</th>\n",
       "    </tr>\n",
       "  </thead>\n",
       "  <tbody>\n",
       "    <tr>\n",
       "      <th>0</th>\n",
       "      <td>54yu2w</td>\n",
       "      <td>besaide martxa 2011</td>\n",
       "      <td>Garmin Connect</td>\n",
       "      <td>Spain</td>\n",
       "      <td>(43.0696788802743, -2.47713318094611)</td>\n",
       "      <td>35.655796</td>\n",
       "      <td>1298</td>\n",
       "      <td>193</td>\n",
       "      <td>631</td>\n",
       "    </tr>\n",
       "    <tr>\n",
       "      <th>1</th>\n",
       "      <td>00v5fe</td>\n",
       "      <td>Untitled</td>\n",
       "      <td>Garmin Connect</td>\n",
       "      <td>Spain</td>\n",
       "      <td>(37.1465449780226, -3.56366956606507)</td>\n",
       "      <td>28.309959</td>\n",
       "      <td>433</td>\n",
       "      <td>680</td>\n",
       "      <td>1054</td>\n",
       "    </tr>\n",
       "    <tr>\n",
       "      <th>2</th>\n",
       "      <td>f4r9n2</td>\n",
       "      <td>Carretera costa Asterrika Baurdo</td>\n",
       "      <td>Garmin Connect</td>\n",
       "      <td>Spain</td>\n",
       "      <td>(43.3455239608884, -2.48506112024188)</td>\n",
       "      <td>34.621333</td>\n",
       "      <td>869</td>\n",
       "      <td>6</td>\n",
       "      <td>226</td>\n",
       "    </tr>\n",
       "    <tr>\n",
       "      <th>3</th>\n",
       "      <td>lu6s5f</td>\n",
       "      <td>Circuito AlbuÃ±uelas</td>\n",
       "      <td>Garmin Connect</td>\n",
       "      <td>Spain</td>\n",
       "      <td>(37.1134440042078, -3.61588572151959)</td>\n",
       "      <td>71.292768</td>\n",
       "      <td>946</td>\n",
       "      <td>503</td>\n",
       "      <td>874</td>\n",
       "    </tr>\n",
       "    <tr>\n",
       "      <th>4</th>\n",
       "      <td>rgxaz9</td>\n",
       "      <td>prova</td>\n",
       "      <td>Garmin Connect</td>\n",
       "      <td>Spain</td>\n",
       "      <td>(41.6769059747458, 1.2808879930526)</td>\n",
       "      <td>53.193531</td>\n",
       "      <td>677</td>\n",
       "      <td>485</td>\n",
       "      <td>767</td>\n",
       "    </tr>\n",
       "  </tbody>\n",
       "</table>\n",
       "</div>"
      ],
      "text/plain": [
       "     name                     original_name          source country  \\\n",
       "0  54yu2w               besaide martxa 2011  Garmin Connect   Spain   \n",
       "1  00v5fe                          Untitled  Garmin Connect   Spain   \n",
       "2  f4r9n2  Carretera costa Asterrika Baurdo  Garmin Connect   Spain   \n",
       "3  lu6s5f              Circuito AlbuÃ±uelas  Garmin Connect   Spain   \n",
       "4  rgxaz9                             prova  Garmin Connect   Spain   \n",
       "\n",
       "                                   start   distance  climb  min_alt  max_alt  \n",
       "0  (43.0696788802743, -2.47713318094611)  35.655796   1298      193      631  \n",
       "1  (37.1465449780226, -3.56366956606507)  28.309959    433      680     1054  \n",
       "2  (43.3455239608884, -2.48506112024188)  34.621333    869        6      226  \n",
       "3  (37.1134440042078, -3.61588572151959)  71.292768    946      503      874  \n",
       "4    (41.6769059747458, 1.2808879930526)  53.193531    677      485      767  "
      ]
     },
     "execution_count": 97,
     "metadata": {},
     "output_type": "execute_result"
    }
   ],
   "source": [
    "df.head(5)"
   ]
  },
  {
   "cell_type": "markdown",
   "id": "4e9b6928",
   "metadata": {},
   "source": [
    "The function works fine but it takes a very long time to process each file. This is unacceptable, I will have to find a better (faster) way of determining a route's country of origin."
   ]
  },
  {
   "cell_type": "code",
   "execution_count": 148,
   "id": "a8f42909",
   "metadata": {},
   "outputs": [
    {
     "name": "stdout",
     "output_type": "stream",
     "text": [
      "United Kingdom\n"
     ]
    }
   ],
   "source": [
    "from geopy.geocoders import Nominatim\n",
    "geolocator = Nominatim(user_agent=\"http\")\n",
    "location = geolocator.reverse(tuple([51.5074,0.1278]))\n",
    "\n",
    "print(location.address.split(',')[-1][1:])"
   ]
  },
  {
   "cell_type": "code",
   "execution_count": 113,
   "id": "34aff2a4",
   "metadata": {},
   "outputs": [
    {
     "data": {
      "text/plain": [
       "str"
      ]
     },
     "execution_count": 113,
     "metadata": {},
     "output_type": "execute_result"
    }
   ],
   "source": [
    "type(location.address)"
   ]
  },
  {
   "cell_type": "code",
   "execution_count": 114,
   "id": "2eb9db3f",
   "metadata": {},
   "outputs": [],
   "source": [
    "split_string = location.address.split(',')"
   ]
  },
  {
   "cell_type": "code",
   "execution_count": 132,
   "id": "34b256d5",
   "metadata": {},
   "outputs": [
    {
     "data": {
      "text/plain": [
       "'United Kingdom'"
      ]
     },
     "execution_count": 132,
     "metadata": {},
     "output_type": "execute_result"
    }
   ],
   "source": [
    "split_string[-1][1:]"
   ]
  },
  {
   "cell_type": "markdown",
   "id": "0460d386",
   "metadata": {},
   "source": [
    "### Testing new parser function with a different geolocating method"
   ]
  },
  {
   "cell_type": "code",
   "execution_count": 139,
   "id": "d85970a7",
   "metadata": {},
   "outputs": [],
   "source": [
    "def parser(file, name):\n",
    "    try:\n",
    "        gpx_file = open(file, 'r') \n",
    "        gpx = gpxpy.parse(gpx_file) \n",
    "        coords = []\n",
    "        for track in gpx.tracks:\n",
    "            for segment in track.segments:        \n",
    "                for point in segment.points:\n",
    "                    coords.append(tuple([point.latitude, point.longitude]))\n",
    "        geolocator = Nominatim(user_agent=\"http\")\n",
    "        location = geolocator.reverse(coords[0])\n",
    "        split_string = location.address.split(',')\n",
    "        country = split_string[-1]\n",
    "        parsed_file = {'name': name,\n",
    "                       'original_name': track.name,\n",
    "                        'source': gpx.creator,\n",
    "                        'country': country,\n",
    "                        'start': str(tuple([coords[0][0], coords[0][1]])),\n",
    "                        'distance': track.length_3d()/1000, \n",
    "                        'climb': int(gpx.get_uphill_downhill()[0]),\n",
    "                        'min_alt': int(gpx.get_elevation_extremes()[0]),\n",
    "                        'max_alt': int(gpx.get_elevation_extremes()[1])}\n",
    "        with open('generated_gpx/' + name + \".gpx\", \"w\") as f:\n",
    "            f.write(gpx.to_xml())\n",
    "        return parsed_file\n",
    "    except:\n",
    "        gpx_file = open(file, 'r', encoding='utf-8') \n",
    "        gpx = gpxpy.parse(gpx_file) \n",
    "        coords = []\n",
    "        for track in gpx.tracks:\n",
    "            for segment in track.segments:        \n",
    "                for point in segment.points:\n",
    "                    coords.append(tuple([point.latitude, point.longitude]))\n",
    "        geolocator = Nominatim(user_agent=\"http\")\n",
    "        location = geolocator.reverse(coords[0])\n",
    "        split_string = location.address.split(',')\n",
    "        country = split_string[-1]\n",
    "        parsed_file = {'name': name,\n",
    "                       'original_name': track.name,\n",
    "                        'source': gpx.creator,\n",
    "                        'country': country,\n",
    "                        'start': str(tuple([coords[0][0], coords[0][1]])),\n",
    "                        'distance': track.length_3d()/1000, \n",
    "                        'climb': int(gpx.get_uphill_downhill()[0]),\n",
    "                        'min_alt': int(gpx.get_elevation_extremes()[0]),\n",
    "                        'max_alt': int(gpx.get_elevation_extremes()[1])}\n",
    "        with open('generated_gpx/' + name + \".gpx\", \"w\") as f:\n",
    "            f.write(gpx.to_xml())\n",
    "        return parsed_file"
   ]
  },
  {
   "cell_type": "code",
   "execution_count": 140,
   "id": "47df549e",
   "metadata": {
    "scrolled": false
   },
   "outputs": [
    {
     "name": "stdout",
     "output_type": "stream",
     "text": [
      "Minutes: 0.8352776447931926\n"
     ]
    }
   ],
   "source": [
    "#Testing our new parser function:\n",
    "\n",
    "start = time.time()\n",
    "\n",
    "df = gpx_creator()\n",
    "\n",
    "stop = time.time() #Stopping our timer.\n",
    "duration = (stop - start) / 60\n",
    "\n",
    "print('Minutes:', duration)"
   ]
  },
  {
   "cell_type": "markdown",
   "id": "7469a57f",
   "metadata": {},
   "source": [
    "While this is much faster than the previous iteration, I believe it could be further optimized."
   ]
  },
  {
   "cell_type": "code",
   "execution_count": 150,
   "id": "89c24512",
   "metadata": {},
   "outputs": [],
   "source": [
    "def parser(file, name):\n",
    "    try:\n",
    "        gpx_file = open(file, 'r') \n",
    "        gpx = gpxpy.parse(gpx_file) \n",
    "        coords = []\n",
    "        for track in gpx.tracks:\n",
    "            for segment in track.segments:        \n",
    "                for point in segment.points:\n",
    "                    coords.append(tuple([point.latitude, point.longitude]))\n",
    "        geolocator = Nominatim(user_agent=\"http\")\n",
    "        country = geolocator.reverse(coords[0]).address.split(',')[-1]\n",
    "        parsed_file = {'name': name,\n",
    "                       'original_name': track.name,\n",
    "                        'source': gpx.creator,\n",
    "                        'country': country,\n",
    "                        'start': str(tuple([coords[0][0], coords[0][1]])),\n",
    "                        'distance': track.length_3d()/1000, \n",
    "                        'climb': int(gpx.get_uphill_downhill()[0]),\n",
    "                        'min_alt': int(gpx.get_elevation_extremes()[0]),\n",
    "                        'max_alt': int(gpx.get_elevation_extremes()[1])}\n",
    "        with open('generated_gpx/' + name + \".gpx\", \"w\") as f:\n",
    "            f.write(gpx.to_xml())\n",
    "        return parsed_file\n",
    "    except:\n",
    "        gpx_file = open(file, 'r', encoding='utf-8') \n",
    "        gpx = gpxpy.parse(gpx_file) \n",
    "        coords = []\n",
    "        for track in gpx.tracks:\n",
    "            for segment in track.segments:        \n",
    "                for point in segment.points:\n",
    "                    coords.append(tuple([point.latitude, point.longitude]))\n",
    "        geolocator = Nominatim(user_agent=\"http\")\n",
    "        country = geolocator.reverse(coords[0]).address.split(',')[-1]\n",
    "        parsed_file = {'name': name,\n",
    "                       'original_name': track.name,\n",
    "                        'source': gpx.creator,\n",
    "                        'country': country,\n",
    "                        'start': str(tuple([coords[0][0], coords[0][1]])),\n",
    "                        'distance': track.length_3d()/1000, \n",
    "                        'climb': int(gpx.get_uphill_downhill()[0]),\n",
    "                        'min_alt': int(gpx.get_elevation_extremes()[0]),\n",
    "                        'max_alt': int(gpx.get_elevation_extremes()[1])}\n",
    "        with open('generated_gpx/' + name + \".gpx\", \"w\") as f:\n",
    "            f.write(gpx.to_xml())\n",
    "        return parsed_file"
   ]
  },
  {
   "cell_type": "code",
   "execution_count": 151,
   "id": "9b9b7053",
   "metadata": {},
   "outputs": [
    {
     "name": "stdout",
     "output_type": "stream",
     "text": [
      "Minutes: 33.51064385175705\n"
     ]
    }
   ],
   "source": [
    "#Testing our new parser function:\n",
    "\n",
    "start = time.time()\n",
    "\n",
    "df = gpx_creator()\n",
    "\n",
    "stop = time.time() #Stopping our timer.\n",
    "duration = (stop - start) / 60\n",
    "\n",
    "print('Minutes:', duration)"
   ]
  },
  {
   "cell_type": "markdown",
   "id": "15503084",
   "metadata": {},
   "source": [
    "While the code of the function has been heavily optimized, the real bottleneck is the **Nominatim**. Unless a better method can be found, 0.5 seconds per file is the best that can be achieved."
   ]
  },
  {
   "cell_type": "markdown",
   "id": "2d078a78",
   "metadata": {},
   "source": [
    "### Third approach, performing the calculations on the machine"
   ]
  },
  {
   "cell_type": "code",
   "execution_count": 188,
   "id": "5816bacc",
   "metadata": {},
   "outputs": [
    {
     "name": "stdout",
     "output_type": "stream",
     "text": [
      "255\n",
      "Austria\n"
     ]
    }
   ],
   "source": [
    "#This function uses a Shapely file to determine if a point is within a country, and returns it.\n",
    "\n",
    "import requests\n",
    "\n",
    "from shapely.geometry import mapping, shape\n",
    "from shapely.prepared import prep\n",
    "from shapely.geometry import Point\n",
    "\n",
    "\n",
    "data = requests.get(\"https://raw.githubusercontent.com/datasets/geo-countries/master/data/countries.geojson\").json()\n",
    "\n",
    "countries = {}\n",
    "for feature in data[\"features\"]:\n",
    "    geom = feature[\"geometry\"]\n",
    "    country = feature[\"properties\"][\"ADMIN\"]\n",
    "    countries[country] = prep(shape(geom))\n",
    "\n",
    "print(len(countries))\n",
    "\n",
    "def get_country(lon, lat):\n",
    "    point = Point(lon, lat)\n",
    "    for country, geom in countries.items():\n",
    "        if geom.contains(point):\n",
    "            return country\n",
    "\n",
    "    return \"Unknown\"\n",
    "\n",
    "print(get_country(10.0, 47.0))"
   ]
  },
  {
   "cell_type": "code",
   "execution_count": 195,
   "id": "eca00636",
   "metadata": {},
   "outputs": [],
   "source": [
    "#Implementing this function within our parser.\n",
    "\n",
    "def parser(file, name):\n",
    "    try:\n",
    "        gpx_file = open(file, 'r') \n",
    "        gpx = gpxpy.parse(gpx_file) \n",
    "        coords = []\n",
    "        for track in gpx.tracks:\n",
    "            for segment in track.segments:        \n",
    "                for point in segment.points:\n",
    "                    coords.append(tuple([point.latitude, point.longitude]))\n",
    "        country = get_country(coords[0][1], coords[0][0])\n",
    "        parsed_file = {'name': name,\n",
    "                       'original_name': track.name,\n",
    "                        'source': gpx.creator,\n",
    "                        'country': country,\n",
    "                        'start': str(tuple([coords[0][0], coords[0][1]])),\n",
    "                        'distance': track.length_3d()/1000, \n",
    "                        'climb': int(gpx.get_uphill_downhill()[0]),\n",
    "                        'min_alt': int(gpx.get_elevation_extremes()[0]),\n",
    "                        'max_alt': int(gpx.get_elevation_extremes()[1])}\n",
    "        with open('generated_gpx/' + name + \".gpx\", \"w\") as f:\n",
    "            f.write(gpx.to_xml())\n",
    "        return parsed_file\n",
    "    except:\n",
    "        gpx_file = open(file, 'r', encoding='utf-8') \n",
    "        gpx = gpxpy.parse(gpx_file) \n",
    "        coords = []\n",
    "        for track in gpx.tracks:\n",
    "            for segment in track.segments:        \n",
    "                for point in segment.points:\n",
    "                    coords.append(tuple([point.latitude, point.longitude]))\n",
    "        country = get_country(coords[0][1], coords[0][0])\n",
    "        parsed_file = {'name': name,\n",
    "                       'original_name': track.name,\n",
    "                        'source': gpx.creator,\n",
    "                        'country': country,\n",
    "                        'start': str(tuple([coords[0][0], coords[0][1]])),\n",
    "                        'distance': track.length_3d()/1000, \n",
    "                        'climb': int(gpx.get_uphill_downhill()[0]),\n",
    "                        'min_alt': int(gpx.get_elevation_extremes()[0]),\n",
    "                        'max_alt': int(gpx.get_elevation_extremes()[1])}\n",
    "        with open('generated_gpx/' + name + \".gpx\", \"w\") as f:\n",
    "            f.write(gpx.to_xml())\n",
    "        return parsed_file"
   ]
  },
  {
   "cell_type": "code",
   "execution_count": 161,
   "id": "03a6ea50",
   "metadata": {},
   "outputs": [
    {
     "name": "stdout",
     "output_type": "stream",
     "text": [
      "Minutes: 0.5423984885215759\n"
     ]
    }
   ],
   "source": [
    "#Testing our new parser function:\n",
    "\n",
    "start = time.time()\n",
    "\n",
    "df = gpx_creator()\n",
    "\n",
    "stop = time.time() #Stopping our timer.\n",
    "duration = (stop - start) / 60\n",
    "\n",
    "print('Minutes:', duration)"
   ]
  },
  {
   "cell_type": "code",
   "execution_count": 163,
   "id": "f2000f77",
   "metadata": {},
   "outputs": [
    {
     "data": {
      "text/html": [
       "<div>\n",
       "<style scoped>\n",
       "    .dataframe tbody tr th:only-of-type {\n",
       "        vertical-align: middle;\n",
       "    }\n",
       "\n",
       "    .dataframe tbody tr th {\n",
       "        vertical-align: top;\n",
       "    }\n",
       "\n",
       "    .dataframe thead th {\n",
       "        text-align: right;\n",
       "    }\n",
       "</style>\n",
       "<table border=\"1\" class=\"dataframe\">\n",
       "  <thead>\n",
       "    <tr style=\"text-align: right;\">\n",
       "      <th></th>\n",
       "      <th>name</th>\n",
       "      <th>original_name</th>\n",
       "      <th>source</th>\n",
       "      <th>country</th>\n",
       "      <th>start</th>\n",
       "      <th>distance</th>\n",
       "      <th>climb</th>\n",
       "      <th>min_alt</th>\n",
       "      <th>max_alt</th>\n",
       "    </tr>\n",
       "  </thead>\n",
       "  <tbody>\n",
       "    <tr>\n",
       "      <th>0</th>\n",
       "      <td>54yu2w</td>\n",
       "      <td>jarapalos integral</td>\n",
       "      <td>Garmin Connect</td>\n",
       "      <td>Spain</td>\n",
       "      <td>(36.6441969852895, -4.68569928780198)</td>\n",
       "      <td>64.815114</td>\n",
       "      <td>2249</td>\n",
       "      <td>118</td>\n",
       "      <td>1122</td>\n",
       "    </tr>\n",
       "    <tr>\n",
       "      <th>1</th>\n",
       "      <td>00v5fe</td>\n",
       "      <td>Guadalajara</td>\n",
       "      <td>Garmin Connect</td>\n",
       "      <td>Spain</td>\n",
       "      <td>(40.3005968872458, -3.4378572832793)</td>\n",
       "      <td>131.904391</td>\n",
       "      <td>1180</td>\n",
       "      <td>569</td>\n",
       "      <td>941</td>\n",
       "    </tr>\n",
       "    <tr>\n",
       "      <th>2</th>\n",
       "      <td>f4r9n2</td>\n",
       "      <td>Subida a Oiz</td>\n",
       "      <td>Garmin Connect</td>\n",
       "      <td>Spain</td>\n",
       "      <td>(43.1772534828633, -2.63386865146458)</td>\n",
       "      <td>33.586719</td>\n",
       "      <td>921</td>\n",
       "      <td>113</td>\n",
       "      <td>1009</td>\n",
       "    </tr>\n",
       "    <tr>\n",
       "      <th>3</th>\n",
       "      <td>lu6s5f</td>\n",
       "      <td>VilafrancadeBonAnyManacorPetraVilafrancadeBonAny</td>\n",
       "      <td>Garmin Connect</td>\n",
       "      <td>Spain</td>\n",
       "      <td>(39.57054, 3.09186)</td>\n",
       "      <td>41.194597</td>\n",
       "      <td>315</td>\n",
       "      <td>42</td>\n",
       "      <td>221</td>\n",
       "    </tr>\n",
       "    <tr>\n",
       "      <th>4</th>\n",
       "      <td>rgxaz9</td>\n",
       "      <td>jarapalos integral</td>\n",
       "      <td>Garmin Connect</td>\n",
       "      <td>Spain</td>\n",
       "      <td>(36.6441969852895, -4.68569928780198)</td>\n",
       "      <td>64.707138</td>\n",
       "      <td>2176</td>\n",
       "      <td>121</td>\n",
       "      <td>1138</td>\n",
       "    </tr>\n",
       "  </tbody>\n",
       "</table>\n",
       "</div>"
      ],
      "text/plain": [
       "     name                                     original_name          source  \\\n",
       "0  54yu2w                                jarapalos integral  Garmin Connect   \n",
       "1  00v5fe                                       Guadalajara  Garmin Connect   \n",
       "2  f4r9n2                                      Subida a Oiz  Garmin Connect   \n",
       "3  lu6s5f  VilafrancadeBonAnyManacorPetraVilafrancadeBonAny  Garmin Connect   \n",
       "4  rgxaz9                                jarapalos integral  Garmin Connect   \n",
       "\n",
       "  country                                  start    distance  climb  min_alt  \\\n",
       "0   Spain  (36.6441969852895, -4.68569928780198)   64.815114   2249      118   \n",
       "1   Spain   (40.3005968872458, -3.4378572832793)  131.904391   1180      569   \n",
       "2   Spain  (43.1772534828633, -2.63386865146458)   33.586719    921      113   \n",
       "3   Spain                    (39.57054, 3.09186)   41.194597    315       42   \n",
       "4   Spain  (36.6441969852895, -4.68569928780198)   64.707138   2176      121   \n",
       "\n",
       "   max_alt  \n",
       "0     1122  \n",
       "1      941  \n",
       "2     1009  \n",
       "3      221  \n",
       "4     1138  "
      ]
     },
     "execution_count": 163,
     "metadata": {},
     "output_type": "execute_result"
    }
   ],
   "source": [
    "df.head(5)"
   ]
  },
  {
   "cell_type": "markdown",
   "id": "f1d05e0d",
   "metadata": {},
   "source": [
    "Success! Now the function is almost as fast as the first one while also adding the country to a specific column. The speed is about 0.06 seconds per file, or about 55K per hour."
   ]
  },
  {
   "cell_type": "markdown",
   "id": "f2a414c8",
   "metadata": {},
   "source": [
    "## Adding routes to folders named by country"
   ]
  },
  {
   "cell_type": "markdown",
   "id": "600cde61",
   "metadata": {},
   "source": [
    "It would be useful to have the resulting files in separate folders with the name of the country, and this could be accomplished quite easily."
   ]
  },
  {
   "cell_type": "code",
   "execution_count": 193,
   "id": "44140db0",
   "metadata": {},
   "outputs": [],
   "source": [
    "#Implementing this function within our parser.\n",
    "\n",
    "def parser(file, name):\n",
    "    try:\n",
    "        try:\n",
    "            gpx_file = open(file, 'r') \n",
    "            gpx = gpxpy.parse(gpx_file) \n",
    "            coords = []\n",
    "            for track in gpx.tracks:\n",
    "                for segment in track.segments:        \n",
    "                    for point in segment.points:\n",
    "                        coords.append(tuple([point.latitude, point.longitude]))\n",
    "            country = get_country(coords[0][1], coords[0][0])\n",
    "            parsed_file = {'name': name,\n",
    "                           'original_name': track.name,\n",
    "                            'source': gpx.creator,\n",
    "                            'country': country,\n",
    "                            'start': str(tuple([coords[0][0], coords[0][1]])),\n",
    "                            'distance': track.length_3d()/1000, \n",
    "                            'climb': int(gpx.get_uphill_downhill()[0]),\n",
    "                            'min_alt': int(gpx.get_elevation_extremes()[0]),\n",
    "                            'max_alt': int(gpx.get_elevation_extremes()[1])}\n",
    "            path = \"C:/Users/Usuario/Ironhack/Personal_projects/Port-Scrapper/generated_gpx/\" + country\n",
    "            if not os.path.exists(path):\n",
    "                os.makedirs(path)\n",
    "            with open(path + '/' + name + \".gpx\", \"w\") as f:\n",
    "                f.write(gpx.to_xml())\n",
    "            return parsed_file\n",
    "        except:\n",
    "            gpx_file = open(file, 'r', encoding='utf-8') \n",
    "            gpx = gpxpy.parse(gpx_file) \n",
    "            coords = []\n",
    "            for track in gpx.tracks:\n",
    "                for segment in track.segments:        \n",
    "                    for point in segment.points:\n",
    "                        coords.append(tuple([point.latitude, point.longitude]))\n",
    "            country = get_country(coords[0][1], coords[0][0])\n",
    "            parsed_file = {'name': name,\n",
    "                           'original_name': track.name,\n",
    "                            'source': gpx.creator,\n",
    "                            'country': country,\n",
    "                            'start': str(tuple([coords[0][0], coords[0][1]])),\n",
    "                            'distance': track.length_3d()/1000, \n",
    "                            'climb': int(gpx.get_uphill_downhill()[0]),\n",
    "                            'min_alt': int(gpx.get_elevation_extremes()[0]),\n",
    "                            'max_alt': int(gpx.get_elevation_extremes()[1])}\n",
    "            path = \"C:/Users/Usuario/Ironhack/Personal_projects/Port-Scrapper/generated_gpx/\" + country\n",
    "            if not os.path.exists(path):\n",
    "                os.makedirs(path)\n",
    "            with open(path + '/' + name + \".gpx\", \"w\") as f:\n",
    "                f.write(gpx.to_xml())\n",
    "            return parsed_file\n",
    "    except:\n",
    "        pass"
   ]
  },
  {
   "cell_type": "code",
   "execution_count": 194,
   "id": "e95deeb9",
   "metadata": {},
   "outputs": [
    {
     "ename": "AttributeError",
     "evalue": "'NoneType' object has no attribute 'keys'",
     "output_type": "error",
     "traceback": [
      "\u001b[1;31m---------------------------------------------------------------------------\u001b[0m",
      "\u001b[1;31mAttributeError\u001b[0m                            Traceback (most recent call last)",
      "\u001b[1;32m<ipython-input-194-094b35a1d613>\u001b[0m in \u001b[0;36m<module>\u001b[1;34m\u001b[0m\n\u001b[0;32m      3\u001b[0m \u001b[0mstart\u001b[0m \u001b[1;33m=\u001b[0m \u001b[0mtime\u001b[0m\u001b[1;33m.\u001b[0m\u001b[0mtime\u001b[0m\u001b[1;33m(\u001b[0m\u001b[1;33m)\u001b[0m\u001b[1;33m\u001b[0m\u001b[1;33m\u001b[0m\u001b[0m\n\u001b[0;32m      4\u001b[0m \u001b[1;33m\u001b[0m\u001b[0m\n\u001b[1;32m----> 5\u001b[1;33m \u001b[0mdf\u001b[0m \u001b[1;33m=\u001b[0m \u001b[0mgpx_creator\u001b[0m\u001b[1;33m(\u001b[0m\u001b[1;33m)\u001b[0m\u001b[1;33m\u001b[0m\u001b[1;33m\u001b[0m\u001b[0m\n\u001b[0m\u001b[0;32m      6\u001b[0m \u001b[1;33m\u001b[0m\u001b[0m\n\u001b[0;32m      7\u001b[0m \u001b[0mstop\u001b[0m \u001b[1;33m=\u001b[0m \u001b[0mtime\u001b[0m\u001b[1;33m.\u001b[0m\u001b[0mtime\u001b[0m\u001b[1;33m(\u001b[0m\u001b[1;33m)\u001b[0m \u001b[1;31m#Stopping our timer.\u001b[0m\u001b[1;33m\u001b[0m\u001b[1;33m\u001b[0m\u001b[0m\n",
      "\u001b[1;32m<ipython-input-27-c9d46e4a6b71>\u001b[0m in \u001b[0;36mgpx_creator\u001b[1;34m()\u001b[0m\n\u001b[0;32m     21\u001b[0m     \u001b[0mduration\u001b[0m \u001b[1;33m=\u001b[0m \u001b[1;33m(\u001b[0m\u001b[0mstop\u001b[0m \u001b[1;33m-\u001b[0m \u001b[0mstart\u001b[0m\u001b[1;33m)\u001b[0m \u001b[1;33m/\u001b[0m \u001b[1;36m60\u001b[0m\u001b[1;33m\u001b[0m\u001b[1;33m\u001b[0m\u001b[0m\n\u001b[0;32m     22\u001b[0m \u001b[1;33m\u001b[0m\u001b[0m\n\u001b[1;32m---> 23\u001b[1;33m     \u001b[0mdf\u001b[0m \u001b[1;33m=\u001b[0m \u001b[0mpd\u001b[0m\u001b[1;33m.\u001b[0m\u001b[0mDataFrame\u001b[0m\u001b[1;33m(\u001b[0m\u001b[0mparsed_list\u001b[0m\u001b[1;33m)\u001b[0m\u001b[1;33m\u001b[0m\u001b[1;33m\u001b[0m\u001b[0m\n\u001b[0m\u001b[0;32m     24\u001b[0m     \u001b[1;32mreturn\u001b[0m \u001b[0mdf\u001b[0m \u001b[1;31m#Returning the elapsed minutes.\u001b[0m\u001b[1;33m\u001b[0m\u001b[1;33m\u001b[0m\u001b[0m\n",
      "\u001b[1;32m~\\anaconda3\\lib\\site-packages\\pandas\\core\\frame.py\u001b[0m in \u001b[0;36m__init__\u001b[1;34m(self, data, index, columns, dtype, copy)\u001b[0m\n\u001b[0;32m    568\u001b[0m                     \u001b[1;32mif\u001b[0m \u001b[0mis_named_tuple\u001b[0m\u001b[1;33m(\u001b[0m\u001b[0mdata\u001b[0m\u001b[1;33m[\u001b[0m\u001b[1;36m0\u001b[0m\u001b[1;33m]\u001b[0m\u001b[1;33m)\u001b[0m \u001b[1;32mand\u001b[0m \u001b[0mcolumns\u001b[0m \u001b[1;32mis\u001b[0m \u001b[1;32mNone\u001b[0m\u001b[1;33m:\u001b[0m\u001b[1;33m\u001b[0m\u001b[1;33m\u001b[0m\u001b[0m\n\u001b[0;32m    569\u001b[0m                         \u001b[0mcolumns\u001b[0m \u001b[1;33m=\u001b[0m \u001b[0mdata\u001b[0m\u001b[1;33m[\u001b[0m\u001b[1;36m0\u001b[0m\u001b[1;33m]\u001b[0m\u001b[1;33m.\u001b[0m\u001b[0m_fields\u001b[0m\u001b[1;33m\u001b[0m\u001b[1;33m\u001b[0m\u001b[0m\n\u001b[1;32m--> 570\u001b[1;33m                     \u001b[0marrays\u001b[0m\u001b[1;33m,\u001b[0m \u001b[0mcolumns\u001b[0m \u001b[1;33m=\u001b[0m \u001b[0mto_arrays\u001b[0m\u001b[1;33m(\u001b[0m\u001b[0mdata\u001b[0m\u001b[1;33m,\u001b[0m \u001b[0mcolumns\u001b[0m\u001b[1;33m,\u001b[0m \u001b[0mdtype\u001b[0m\u001b[1;33m=\u001b[0m\u001b[0mdtype\u001b[0m\u001b[1;33m)\u001b[0m\u001b[1;33m\u001b[0m\u001b[1;33m\u001b[0m\u001b[0m\n\u001b[0m\u001b[0;32m    571\u001b[0m                     \u001b[0mcolumns\u001b[0m \u001b[1;33m=\u001b[0m \u001b[0mensure_index\u001b[0m\u001b[1;33m(\u001b[0m\u001b[0mcolumns\u001b[0m\u001b[1;33m)\u001b[0m\u001b[1;33m\u001b[0m\u001b[1;33m\u001b[0m\u001b[0m\n\u001b[0;32m    572\u001b[0m \u001b[1;33m\u001b[0m\u001b[0m\n",
      "\u001b[1;32m~\\anaconda3\\lib\\site-packages\\pandas\\core\\internals\\construction.py\u001b[0m in \u001b[0;36mto_arrays\u001b[1;34m(data, columns, coerce_float, dtype)\u001b[0m\n\u001b[0;32m    528\u001b[0m         \u001b[1;32mreturn\u001b[0m \u001b[0m_list_to_arrays\u001b[0m\u001b[1;33m(\u001b[0m\u001b[0mdata\u001b[0m\u001b[1;33m,\u001b[0m \u001b[0mcolumns\u001b[0m\u001b[1;33m,\u001b[0m \u001b[0mcoerce_float\u001b[0m\u001b[1;33m=\u001b[0m\u001b[0mcoerce_float\u001b[0m\u001b[1;33m,\u001b[0m \u001b[0mdtype\u001b[0m\u001b[1;33m=\u001b[0m\u001b[0mdtype\u001b[0m\u001b[1;33m)\u001b[0m\u001b[1;33m\u001b[0m\u001b[1;33m\u001b[0m\u001b[0m\n\u001b[0;32m    529\u001b[0m     \u001b[1;32melif\u001b[0m \u001b[0misinstance\u001b[0m\u001b[1;33m(\u001b[0m\u001b[0mdata\u001b[0m\u001b[1;33m[\u001b[0m\u001b[1;36m0\u001b[0m\u001b[1;33m]\u001b[0m\u001b[1;33m,\u001b[0m \u001b[0mabc\u001b[0m\u001b[1;33m.\u001b[0m\u001b[0mMapping\u001b[0m\u001b[1;33m)\u001b[0m\u001b[1;33m:\u001b[0m\u001b[1;33m\u001b[0m\u001b[1;33m\u001b[0m\u001b[0m\n\u001b[1;32m--> 530\u001b[1;33m         return _list_of_dict_to_arrays(\n\u001b[0m\u001b[0;32m    531\u001b[0m             \u001b[0mdata\u001b[0m\u001b[1;33m,\u001b[0m \u001b[0mcolumns\u001b[0m\u001b[1;33m,\u001b[0m \u001b[0mcoerce_float\u001b[0m\u001b[1;33m=\u001b[0m\u001b[0mcoerce_float\u001b[0m\u001b[1;33m,\u001b[0m \u001b[0mdtype\u001b[0m\u001b[1;33m=\u001b[0m\u001b[0mdtype\u001b[0m\u001b[1;33m\u001b[0m\u001b[1;33m\u001b[0m\u001b[0m\n\u001b[0;32m    532\u001b[0m         )\n",
      "\u001b[1;32m~\\anaconda3\\lib\\site-packages\\pandas\\core\\internals\\construction.py\u001b[0m in \u001b[0;36m_list_of_dict_to_arrays\u001b[1;34m(data, columns, coerce_float, dtype)\u001b[0m\n\u001b[0;32m    641\u001b[0m         \u001b[0mgen\u001b[0m \u001b[1;33m=\u001b[0m \u001b[1;33m(\u001b[0m\u001b[0mlist\u001b[0m\u001b[1;33m(\u001b[0m\u001b[0mx\u001b[0m\u001b[1;33m.\u001b[0m\u001b[0mkeys\u001b[0m\u001b[1;33m(\u001b[0m\u001b[1;33m)\u001b[0m\u001b[1;33m)\u001b[0m \u001b[1;32mfor\u001b[0m \u001b[0mx\u001b[0m \u001b[1;32min\u001b[0m \u001b[0mdata\u001b[0m\u001b[1;33m)\u001b[0m\u001b[1;33m\u001b[0m\u001b[1;33m\u001b[0m\u001b[0m\n\u001b[0;32m    642\u001b[0m         \u001b[0msort\u001b[0m \u001b[1;33m=\u001b[0m \u001b[1;32mnot\u001b[0m \u001b[0many\u001b[0m\u001b[1;33m(\u001b[0m\u001b[0misinstance\u001b[0m\u001b[1;33m(\u001b[0m\u001b[0md\u001b[0m\u001b[1;33m,\u001b[0m \u001b[0mdict\u001b[0m\u001b[1;33m)\u001b[0m \u001b[1;32mfor\u001b[0m \u001b[0md\u001b[0m \u001b[1;32min\u001b[0m \u001b[0mdata\u001b[0m\u001b[1;33m)\u001b[0m\u001b[1;33m\u001b[0m\u001b[1;33m\u001b[0m\u001b[0m\n\u001b[1;32m--> 643\u001b[1;33m         \u001b[0mcolumns\u001b[0m \u001b[1;33m=\u001b[0m \u001b[0mlib\u001b[0m\u001b[1;33m.\u001b[0m\u001b[0mfast_unique_multiple_list_gen\u001b[0m\u001b[1;33m(\u001b[0m\u001b[0mgen\u001b[0m\u001b[1;33m,\u001b[0m \u001b[0msort\u001b[0m\u001b[1;33m=\u001b[0m\u001b[0msort\u001b[0m\u001b[1;33m)\u001b[0m\u001b[1;33m\u001b[0m\u001b[1;33m\u001b[0m\u001b[0m\n\u001b[0m\u001b[0;32m    644\u001b[0m \u001b[1;33m\u001b[0m\u001b[0m\n\u001b[0;32m    645\u001b[0m     \u001b[1;31m# assure that they are of the base dict class and not of derived\u001b[0m\u001b[1;33m\u001b[0m\u001b[1;33m\u001b[0m\u001b[1;33m\u001b[0m\u001b[0m\n",
      "\u001b[1;32mpandas\\_libs\\lib.pyx\u001b[0m in \u001b[0;36mpandas._libs.lib.fast_unique_multiple_list_gen\u001b[1;34m()\u001b[0m\n",
      "\u001b[1;32m~\\anaconda3\\lib\\site-packages\\pandas\\core\\internals\\construction.py\u001b[0m in \u001b[0;36m<genexpr>\u001b[1;34m(.0)\u001b[0m\n\u001b[0;32m    639\u001b[0m     \"\"\"\n\u001b[0;32m    640\u001b[0m     \u001b[1;32mif\u001b[0m \u001b[0mcolumns\u001b[0m \u001b[1;32mis\u001b[0m \u001b[1;32mNone\u001b[0m\u001b[1;33m:\u001b[0m\u001b[1;33m\u001b[0m\u001b[1;33m\u001b[0m\u001b[0m\n\u001b[1;32m--> 641\u001b[1;33m         \u001b[0mgen\u001b[0m \u001b[1;33m=\u001b[0m \u001b[1;33m(\u001b[0m\u001b[0mlist\u001b[0m\u001b[1;33m(\u001b[0m\u001b[0mx\u001b[0m\u001b[1;33m.\u001b[0m\u001b[0mkeys\u001b[0m\u001b[1;33m(\u001b[0m\u001b[1;33m)\u001b[0m\u001b[1;33m)\u001b[0m \u001b[1;32mfor\u001b[0m \u001b[0mx\u001b[0m \u001b[1;32min\u001b[0m \u001b[0mdata\u001b[0m\u001b[1;33m)\u001b[0m\u001b[1;33m\u001b[0m\u001b[1;33m\u001b[0m\u001b[0m\n\u001b[0m\u001b[0;32m    642\u001b[0m         \u001b[0msort\u001b[0m \u001b[1;33m=\u001b[0m \u001b[1;32mnot\u001b[0m \u001b[0many\u001b[0m\u001b[1;33m(\u001b[0m\u001b[0misinstance\u001b[0m\u001b[1;33m(\u001b[0m\u001b[0md\u001b[0m\u001b[1;33m,\u001b[0m \u001b[0mdict\u001b[0m\u001b[1;33m)\u001b[0m \u001b[1;32mfor\u001b[0m \u001b[0md\u001b[0m \u001b[1;32min\u001b[0m \u001b[0mdata\u001b[0m\u001b[1;33m)\u001b[0m\u001b[1;33m\u001b[0m\u001b[1;33m\u001b[0m\u001b[0m\n\u001b[0;32m    643\u001b[0m         \u001b[0mcolumns\u001b[0m \u001b[1;33m=\u001b[0m \u001b[0mlib\u001b[0m\u001b[1;33m.\u001b[0m\u001b[0mfast_unique_multiple_list_gen\u001b[0m\u001b[1;33m(\u001b[0m\u001b[0mgen\u001b[0m\u001b[1;33m,\u001b[0m \u001b[0msort\u001b[0m\u001b[1;33m=\u001b[0m\u001b[0msort\u001b[0m\u001b[1;33m)\u001b[0m\u001b[1;33m\u001b[0m\u001b[1;33m\u001b[0m\u001b[0m\n",
      "\u001b[1;31mAttributeError\u001b[0m: 'NoneType' object has no attribute 'keys'"
     ]
    }
   ],
   "source": [
    "#Testing our new parser function:\n",
    "\n",
    "start = time.time()\n",
    "\n",
    "df = gpx_creator()\n",
    "\n",
    "stop = time.time() #Stopping our timer.\n",
    "duration = (stop - start) / 60\n",
    "\n",
    "print('Minutes:', duration)"
   ]
  },
  {
   "cell_type": "code",
   "execution_count": 209,
   "id": "535d07cd",
   "metadata": {},
   "outputs": [],
   "source": [
    "def parser(file, name):\n",
    "    try:\n",
    "        try:\n",
    "            gpx_file = open(file, 'r') \n",
    "            gpx = gpxpy.parse(gpx_file) \n",
    "            coords = []\n",
    "            for track in gpx.tracks:\n",
    "                for segment in track.segments:        \n",
    "                    for point in segment.points:\n",
    "                        coords.append(tuple([point.latitude, point.longitude]))\n",
    "            country = get_country(coords[0][1], coords[0][0])\n",
    "            parsed_file = {'name': name,\n",
    "                           'original_name': track.name,\n",
    "                            'source': gpx.creator,\n",
    "                            'country': country,\n",
    "                            'start': str(tuple([coords[0][0], coords[0][1]])),\n",
    "                            'distance': track.length_3d()/1000, \n",
    "                            'climb': int(gpx.get_uphill_downhill()[0]),\n",
    "                            'min_alt': int(gpx.get_elevation_extremes()[0]),\n",
    "                            'max_alt': int(gpx.get_elevation_extremes()[1])}\n",
    "            if country == 'Spain':\n",
    "                with open('Spain/' + name + \".gpx\", \"w\") as f:\n",
    "                    f.write(gpx.to_xml())\n",
    "            else:\n",
    "                pass\n",
    "        except:\n",
    "            gpx_file = open(file, 'r', encoding='utf-8') \n",
    "            gpx = gpxpy.parse(gpx_file) \n",
    "            coords = []\n",
    "            for track in gpx.tracks:\n",
    "                for segment in track.segments:        \n",
    "                    for point in segment.points:\n",
    "                        coords.append(tuple([point.latitude, point.longitude]))\n",
    "            country = get_country(coords[0][1], coords[0][0])\n",
    "            parsed_file = {'name': name,\n",
    "                           'original_name': track.name,\n",
    "                            'source': gpx.creator,\n",
    "                            'country': country,\n",
    "                            'start': str(tuple([coords[0][0], coords[0][1]])),\n",
    "                            'distance': track.length_3d()/1000, \n",
    "                            'climb': int(gpx.get_uphill_downhill()[0]),\n",
    "                            'min_alt': int(gpx.get_elevation_extremes()[0]),\n",
    "                            'max_alt': int(gpx.get_elevation_extremes()[1])}\n",
    "            if country == 'Spain':\n",
    "                with open('Spain/' + name + \".gpx\", \"w\") as f:\n",
    "                    f.write(gpx.to_xml())\n",
    "            else:\n",
    "                pass\n",
    "            return parsed_file\n",
    "    except:\n",
    "        pass"
   ]
  },
  {
   "cell_type": "code",
   "execution_count": 210,
   "id": "00225644",
   "metadata": {},
   "outputs": [
    {
     "name": "stdout",
     "output_type": "stream",
     "text": [
      "Minutes: 11.744745826721191\n"
     ]
    }
   ],
   "source": [
    "#Testing our new parser function:\n",
    "\n",
    "start = time.time()\n",
    "\n",
    "df = gpx_creator()\n",
    "\n",
    "stop = time.time() #Stopping our timer.\n",
    "duration = (stop - start) / 60\n",
    "\n",
    "print('Minutes:', duration)"
   ]
  },
  {
   "cell_type": "code",
   "execution_count": 309,
   "id": "60d6ff1f",
   "metadata": {},
   "outputs": [],
   "source": [
    "def parser(file, name):\n",
    "    try:\n",
    "        gpx_file = open(file, 'r') \n",
    "        gpx = gpxpy.parse(gpx_file) \n",
    "        coords = []\n",
    "        for track in gpx.tracks:\n",
    "            for segment in track.segments:        \n",
    "                for point in segment.points:\n",
    "                    coords.append(tuple([point.latitude, point.longitude]))\n",
    "        parsed_file = {'name': name,\n",
    "                       'original_name': track.name,\n",
    "                        'source': gpx.creator,\n",
    "                        'start': str(tuple([coords[0][0], coords[0][1]])),\n",
    "                        'distance': track.length_3d()/1000, \n",
    "                        'climb': int(gpx.get_uphill_downhill()[0]),\n",
    "                        'min_alt': int(gpx.get_elevation_extremes()[0]),\n",
    "                        'max_alt': int(gpx.get_elevation_extremes()[1])}\n",
    "        if country == 'Spain':\n",
    "            with open('Spain/' + name + \".gpx\", \"w\") as f:\n",
    "                f.write(gpx.to_xml())\n",
    "        return parsed_file\n",
    "    except:\n",
    "        pass"
   ]
  },
  {
   "cell_type": "code",
   "execution_count": 316,
   "id": "ae98bca6",
   "metadata": {},
   "outputs": [],
   "source": [
    "#Parser function with country detection:\n",
    "\n",
    "def parser(file, name):\n",
    "    try:\n",
    "        gpx_file = open(file, 'r') \n",
    "        gpx = gpxpy.parse(gpx_file) \n",
    "        coords = []\n",
    "        for track in gpx.tracks:\n",
    "            for segment in track.segments:        \n",
    "                for point in segment.points:\n",
    "                    coords.append(tuple([point.latitude, point.longitude]))\n",
    "        country = get_country(coords[0][1], coords[0][0])\n",
    "        parsed_file = {'name': name,\n",
    "                       'original_name': track.name,\n",
    "                        'source': gpx.creator,\n",
    "                        'country': country,\n",
    "                        'start': str(tuple([coords[0][0], coords[0][1]])),\n",
    "                        'distance': track.length_3d()/1000, \n",
    "                        'climb': int(gpx.get_uphill_downhill()[0]),\n",
    "                        'min_alt': int(gpx.get_elevation_extremes()[0]),\n",
    "                        'max_alt': int(gpx.get_elevation_extremes()[1])}\n",
    "        if country == 'Spain':\n",
    "            with open('Spain/' + name + \".gpx\", \"w\") as f:\n",
    "                f.write(gpx.to_xml())\n",
    "                return parsed_file\n",
    "    except:\n",
    "        pass"
   ]
  },
  {
   "cell_type": "code",
   "execution_count": 317,
   "id": "95388c6c",
   "metadata": {},
   "outputs": [],
   "source": [
    "def gpx_creator():\n",
    "    \"\"\"\n",
    "    Input: none, but all target gpx files must be in a folder named 'gpx'.\n",
    "    \n",
    "    Output: new gpx files created as per 'parser' function.\n",
    "    \n",
    "    \"\"\"\n",
    "    start = time.time() #Starting our timer.\n",
    "\n",
    "    directory = 'gpx' #The folder containing the gpx files.\n",
    "    parsed_list = []\n",
    "    \n",
    "    files = Path(directory).glob('*') #Using all files in the folder as input.\n",
    "    i = 0\n",
    "    for file in files:\n",
    "        name = alpha[i]\n",
    "        parsed = parser(file, name)\n",
    "        if parsed != None:\n",
    "            parsed_list.append(parsed)\n",
    "            i = i+1\n",
    "\n",
    "    stop = time.time() #Stopping our timer.\n",
    "    duration = (stop - start) / 60\n",
    "    \n",
    "    df = pd.DataFrame(parsed_list)\n",
    "    return df #Returning the elapsed minutes."
   ]
  },
  {
   "cell_type": "code",
   "execution_count": 318,
   "id": "f444b2fc",
   "metadata": {},
   "outputs": [
    {
     "name": "stdout",
     "output_type": "stream",
     "text": [
      "Minutes: 0.5918626586596171\n"
     ]
    }
   ],
   "source": [
    "#Testing our new parser function:\n",
    "\n",
    "start = time.time()\n",
    "\n",
    "df = gpx_creator()\n",
    "\n",
    "stop = time.time() #Stopping our timer.\n",
    "duration = (stop - start) / 60\n",
    "\n",
    "print('Minutes:', duration)"
   ]
  },
  {
   "cell_type": "code",
   "execution_count": 319,
   "id": "d10398aa",
   "metadata": {},
   "outputs": [
    {
     "name": "stdout",
     "output_type": "stream",
     "text": [
      "<class 'pandas.core.frame.DataFrame'>\n",
      "RangeIndex: 484 entries, 0 to 483\n",
      "Data columns (total 9 columns):\n",
      " #   Column         Non-Null Count  Dtype  \n",
      "---  ------         --------------  -----  \n",
      " 0   name           484 non-null    object \n",
      " 1   original_name  484 non-null    object \n",
      " 2   source         484 non-null    object \n",
      " 3   country        484 non-null    object \n",
      " 4   start          484 non-null    object \n",
      " 5   distance       484 non-null    float64\n",
      " 6   climb          484 non-null    int64  \n",
      " 7   min_alt        484 non-null    int64  \n",
      " 8   max_alt        484 non-null    int64  \n",
      "dtypes: float64(1), int64(3), object(5)\n",
      "memory usage: 34.2+ KB\n"
     ]
    }
   ],
   "source": [
    "df.info()"
   ]
  },
  {
   "cell_type": "code",
   "execution_count": 320,
   "id": "0ebc95f6",
   "metadata": {
    "scrolled": false
   },
   "outputs": [
    {
     "data": {
      "text/html": [
       "<div>\n",
       "<style scoped>\n",
       "    .dataframe tbody tr th:only-of-type {\n",
       "        vertical-align: middle;\n",
       "    }\n",
       "\n",
       "    .dataframe tbody tr th {\n",
       "        vertical-align: top;\n",
       "    }\n",
       "\n",
       "    .dataframe thead th {\n",
       "        text-align: right;\n",
       "    }\n",
       "</style>\n",
       "<table border=\"1\" class=\"dataframe\">\n",
       "  <thead>\n",
       "    <tr style=\"text-align: right;\">\n",
       "      <th></th>\n",
       "      <th>name</th>\n",
       "      <th>original_name</th>\n",
       "      <th>source</th>\n",
       "      <th>country</th>\n",
       "      <th>start</th>\n",
       "      <th>distance</th>\n",
       "      <th>climb</th>\n",
       "      <th>min_alt</th>\n",
       "      <th>max_alt</th>\n",
       "    </tr>\n",
       "  </thead>\n",
       "  <tbody>\n",
       "    <tr>\n",
       "      <th>0</th>\n",
       "      <td>54yu2w</td>\n",
       "      <td>circuito btt Valderrobres</td>\n",
       "      <td>Garmin Connect</td>\n",
       "      <td>Spain</td>\n",
       "      <td>(40.87018978782, 0.152738643810153)</td>\n",
       "      <td>30.639216</td>\n",
       "      <td>760</td>\n",
       "      <td>469</td>\n",
       "      <td>768</td>\n",
       "    </tr>\n",
       "    <tr>\n",
       "      <th>1</th>\n",
       "      <td>00v5fe</td>\n",
       "      <td>Enrteno 05/08/2014</td>\n",
       "      <td>Garmin Connect</td>\n",
       "      <td>Spain</td>\n",
       "      <td>(41.4576401654631, 2.20031881704926)</td>\n",
       "      <td>46.500193</td>\n",
       "      <td>90</td>\n",
       "      <td>6</td>\n",
       "      <td>39</td>\n",
       "    </tr>\n",
       "    <tr>\n",
       "      <th>2</th>\n",
       "      <td>f4r9n2</td>\n",
       "      <td>Cerdanyola - Castellar</td>\n",
       "      <td>Garmin Connect</td>\n",
       "      <td>Spain</td>\n",
       "      <td>(41.494322810322, 2.15276844799519)</td>\n",
       "      <td>34.469302</td>\n",
       "      <td>333</td>\n",
       "      <td>64</td>\n",
       "      <td>309</td>\n",
       "    </tr>\n",
       "    <tr>\n",
       "      <th>3</th>\n",
       "      <td>lu6s5f</td>\n",
       "      <td>Palomeras-AgiÃ±a-Aritxulegi-Gurutze.</td>\n",
       "      <td>Garmin Connect</td>\n",
       "      <td>Spain</td>\n",
       "      <td>(43.310460364446, -1.90735302865505)</td>\n",
       "      <td>107.211654</td>\n",
       "      <td>1901</td>\n",
       "      <td>1</td>\n",
       "      <td>549</td>\n",
       "    </tr>\n",
       "    <tr>\n",
       "      <th>4</th>\n",
       "      <td>rgxaz9</td>\n",
       "      <td>Ronda - Alpandeire - Farajan - Juzcar - Ronda</td>\n",
       "      <td>Garmin Connect</td>\n",
       "      <td>Spain</td>\n",
       "      <td>(36.7461060080677, -5.15955367125571)</td>\n",
       "      <td>48.672365</td>\n",
       "      <td>1040</td>\n",
       "      <td>612</td>\n",
       "      <td>1072</td>\n",
       "    </tr>\n",
       "  </tbody>\n",
       "</table>\n",
       "</div>"
      ],
      "text/plain": [
       "     name                                  original_name          source  \\\n",
       "0  54yu2w                      circuito btt Valderrobres  Garmin Connect   \n",
       "1  00v5fe                             Enrteno 05/08/2014  Garmin Connect   \n",
       "2  f4r9n2                         Cerdanyola - Castellar  Garmin Connect   \n",
       "3  lu6s5f           Palomeras-AgiÃ±a-Aritxulegi-Gurutze.  Garmin Connect   \n",
       "4  rgxaz9  Ronda - Alpandeire - Farajan - Juzcar - Ronda  Garmin Connect   \n",
       "\n",
       "  country                                  start    distance  climb  min_alt  \\\n",
       "0   Spain    (40.87018978782, 0.152738643810153)   30.639216    760      469   \n",
       "1   Spain   (41.4576401654631, 2.20031881704926)   46.500193     90        6   \n",
       "2   Spain    (41.494322810322, 2.15276844799519)   34.469302    333       64   \n",
       "3   Spain   (43.310460364446, -1.90735302865505)  107.211654   1901        1   \n",
       "4   Spain  (36.7461060080677, -5.15955367125571)   48.672365   1040      612   \n",
       "\n",
       "   max_alt  \n",
       "0      768  \n",
       "1       39  \n",
       "2      309  \n",
       "3      549  \n",
       "4     1072  "
      ]
     },
     "execution_count": 320,
     "metadata": {},
     "output_type": "execute_result"
    }
   ],
   "source": [
    "df.head()"
   ]
  },
  {
   "cell_type": "code",
   "execution_count": null,
   "id": "a65e0978",
   "metadata": {},
   "outputs": [],
   "source": []
  }
 ],
 "metadata": {
  "kernelspec": {
   "display_name": "Python 3",
   "language": "python",
   "name": "python3"
  },
  "language_info": {
   "codemirror_mode": {
    "name": "ipython",
    "version": 3
   },
   "file_extension": ".py",
   "mimetype": "text/x-python",
   "name": "python",
   "nbconvert_exporter": "python",
   "pygments_lexer": "ipython3",
   "version": "3.8.8"
  },
  "toc": {
   "base_numbering": 1,
   "nav_menu": {},
   "number_sections": true,
   "sideBar": true,
   "skip_h1_title": false,
   "title_cell": "Table of Contents",
   "title_sidebar": "Contents",
   "toc_cell": false,
   "toc_position": {},
   "toc_section_display": true,
   "toc_window_display": false
  },
  "varInspector": {
   "cols": {
    "lenName": 16,
    "lenType": 16,
    "lenVar": 40
   },
   "kernels_config": {
    "python": {
     "delete_cmd_postfix": "",
     "delete_cmd_prefix": "del ",
     "library": "var_list.py",
     "varRefreshCmd": "print(var_dic_list())"
    },
    "r": {
     "delete_cmd_postfix": ") ",
     "delete_cmd_prefix": "rm(",
     "library": "var_list.r",
     "varRefreshCmd": "cat(var_dic_list()) "
    }
   },
   "types_to_exclude": [
    "module",
    "function",
    "builtin_function_or_method",
    "instance",
    "_Feature"
   ],
   "window_display": false
  }
 },
 "nbformat": 4,
 "nbformat_minor": 5
}
