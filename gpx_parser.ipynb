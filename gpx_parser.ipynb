{
 "cells": [
  {
   "cell_type": "markdown",
   "id": "37c0d65b",
   "metadata": {},
   "source": [
    "# Creating a parser function to manipulate gpx files"
   ]
  },
  {
   "cell_type": "markdown",
   "id": "06cd820b",
   "metadata": {},
   "source": [
    "Our objecive is to create a function that can be fed *gpx* files and will compose a dataframe containing the most useful information of said route, as well as changing the name of the *gpx* file to one more easily accessed."
   ]
  },
  {
   "cell_type": "code",
   "execution_count": 40,
   "id": "b3c391bf",
   "metadata": {},
   "outputs": [],
   "source": [
    "#Importing our libraries.\n",
    "\n",
    "import pandas as pd\n",
    "import time\n",
    "import re\n",
    "import pathlib\n",
    "import os\n",
    "import gpxpy\n",
    "import gpxpy.gpx\n",
    "import time\n",
    "from pathlib import Path\n",
    "import os\n",
    "import random, string\n",
    "from geopy.geocoders import Nominatim\n",
    "from pprint import pprint"
   ]
  },
  {
   "cell_type": "code",
   "execution_count": 2,
   "id": "b6add7b7",
   "metadata": {},
   "outputs": [],
   "source": [
    "#Importing our list of names.\n",
    "\n",
    "names = pd.read_csv('names.csv')\n",
    "alpha = names['names'].tolist()"
   ]
  },
  {
   "cell_type": "code",
   "execution_count": 24,
   "id": "d0de577d",
   "metadata": {},
   "outputs": [],
   "source": [
    "#Our parser function.\n",
    "\n",
    "def parser(file, name):\n",
    "    try:\n",
    "        gpx_file = open(file, 'r') \n",
    "        gpx = gpxpy.parse(gpx_file) \n",
    "        coords = []\n",
    "        for track in gpx.tracks:\n",
    "            for segment in track.segments:        \n",
    "                for point in segment.points:\n",
    "                    coords.append(tuple([point.latitude, point.longitude]))\n",
    "        parsed_file = {'name': name,\n",
    "                       'original_name': track.name,\n",
    "                        'source': gpx.creator,\n",
    "                        'start': str(tuple([coords[0][0], coords[0][1]])),\n",
    "                        'distance': track.length_3d()/1000, \n",
    "                        'climb': int(gpx.get_uphill_downhill()[0]),\n",
    "                        'min_alt': int(gpx.get_elevation_extremes()[0]),\n",
    "                        'max_alt': int(gpx.get_elevation_extremes()[1])}\n",
    "        with open('generated_gpx/' + name + \".gpx\", \"w\") as f:\n",
    "            f.write(gpx.to_xml())\n",
    "        return parsed_file\n",
    "    except:\n",
    "        gpx_file = open(file, 'r', encoding='utf-8') \n",
    "        gpx = gpxpy.parse(gpx_file) \n",
    "        coords = []\n",
    "        for track in gpx.tracks:\n",
    "            for segment in track.segments:        \n",
    "                for point in segment.points:\n",
    "                    coords.append(tuple([point.latitude, point.longitude]))\n",
    "        parsed_file = {'name': name,\n",
    "                       'original_name': track.name,\n",
    "                        'source': gpx.creator,\n",
    "                        'start': str(tuple([coords[0][0], coords[0][1]])),\n",
    "                        'distance': track.length_3d()/1000, \n",
    "                        'climb': int(gpx.get_uphill_downhill()[0]),\n",
    "                        'min_alt': int(gpx.get_elevation_extremes()[0]),\n",
    "                        'max_alt': int(gpx.get_elevation_extremes()[1])}\n",
    "        with open('generated_gpx/' + name + \".gpx\", \"w\") as f:\n",
    "            f.write(gpx.to_xml())\n",
    "        return parsed_file"
   ]
  },
  {
   "cell_type": "markdown",
   "id": "9e2de1b1",
   "metadata": {},
   "source": [
    "## Name generation"
   ]
  },
  {
   "cell_type": "code",
   "execution_count": 51,
   "id": "55db013a",
   "metadata": {},
   "outputs": [],
   "source": [
    "#Generating a list of names using alphanumeric characters.\n",
    "\n",
    "alpha = []\n",
    "\n",
    "for i in range(50000000):\n",
    "    x = ''.join(random.choice(string.ascii_lowercase + string.digits) for _ in range(6))\n",
    "    alpha.append(x)"
   ]
  },
  {
   "cell_type": "code",
   "execution_count": 121,
   "id": "f4decd7b",
   "metadata": {},
   "outputs": [],
   "source": [
    "#Dropping duplicate names.\n",
    "\n",
    "alpha = set(alpha)"
   ]
  },
  {
   "cell_type": "code",
   "execution_count": 122,
   "id": "1eecc52c",
   "metadata": {},
   "outputs": [
    {
     "data": {
      "text/plain": [
       "49430049"
      ]
     },
     "execution_count": 122,
     "metadata": {},
     "output_type": "execute_result"
    }
   ],
   "source": [
    "len(alpha)"
   ]
  },
  {
   "cell_type": "code",
   "execution_count": 61,
   "id": "bd9ddf4c",
   "metadata": {},
   "outputs": [],
   "source": [
    "#Storing our names as a dataframe for future use.\n",
    "\n",
    "names = pd.DataFrame(set(alpha), columns =['names'])"
   ]
  },
  {
   "cell_type": "code",
   "execution_count": 63,
   "id": "6bf1f988",
   "metadata": {},
   "outputs": [],
   "source": [
    "#Storing it.\n",
    "\n",
    "names.to_csv('names.csv', index=False)"
   ]
  },
  {
   "cell_type": "markdown",
   "id": "116fda8f",
   "metadata": {},
   "source": [
    "## Final function"
   ]
  },
  {
   "cell_type": "code",
   "execution_count": 27,
   "id": "1d51855a",
   "metadata": {},
   "outputs": [],
   "source": [
    "def gpx_creator():\n",
    "    \"\"\"\n",
    "    Input: none, but all target gpx files must be in a folder named 'gpx'.\n",
    "    \n",
    "    Output: new gpx files created as per 'parser' function.\n",
    "    \n",
    "    \"\"\"\n",
    "    start = time.time() #Starting our fimer.\n",
    "\n",
    "    directory = 'gpx' #The folder containing the gpx files.\n",
    "    parsed_list = []\n",
    "    \n",
    "    files = Path(directory).glob('*') #Using all files in the folder as input.\n",
    "    i = 0\n",
    "    for file in files:\n",
    "        name = alpha[i]\n",
    "        parsed_list.append(parser(file, name)) #Applying the previous function to every file.\n",
    "        i = i+1\n",
    "\n",
    "    stop = time.time() #Stopping our timer.\n",
    "    duration = (stop - start) / 60\n",
    "    \n",
    "    df = pd.DataFrame(parsed_list)\n",
    "    return df #Returning the elapsed minutes."
   ]
  },
  {
   "cell_type": "code",
   "execution_count": 17,
   "id": "c23de89f",
   "metadata": {},
   "outputs": [
    {
     "name": "stdout",
     "output_type": "stream",
     "text": [
      "Minutes: 0.09244021972020468\n"
     ]
    }
   ],
   "source": [
    "start = time.time()\n",
    "\n",
    "df = gpx_creator()\n",
    "\n",
    "stop = time.time() #Stopping our timer.\n",
    "duration = (stop - start) / 60\n",
    "\n",
    "print('Minutes:', duration)"
   ]
  },
  {
   "cell_type": "code",
   "execution_count": 18,
   "id": "44eb3d7c",
   "metadata": {},
   "outputs": [
    {
     "data": {
      "text/html": [
       "<div>\n",
       "<style scoped>\n",
       "    .dataframe tbody tr th:only-of-type {\n",
       "        vertical-align: middle;\n",
       "    }\n",
       "\n",
       "    .dataframe tbody tr th {\n",
       "        vertical-align: top;\n",
       "    }\n",
       "\n",
       "    .dataframe thead th {\n",
       "        text-align: right;\n",
       "    }\n",
       "</style>\n",
       "<table border=\"1\" class=\"dataframe\">\n",
       "  <thead>\n",
       "    <tr style=\"text-align: right;\">\n",
       "      <th></th>\n",
       "      <th>name</th>\n",
       "      <th>original_name</th>\n",
       "      <th>source</th>\n",
       "      <th>start</th>\n",
       "      <th>distance</th>\n",
       "      <th>climb</th>\n",
       "      <th>min_alt</th>\n",
       "      <th>max_alt</th>\n",
       "    </tr>\n",
       "  </thead>\n",
       "  <tbody>\n",
       "    <tr>\n",
       "      <th>0</th>\n",
       "      <td>54yu2w</td>\n",
       "      <td>besaide martxa 2011</td>\n",
       "      <td>Garmin Connect</td>\n",
       "      <td>(43.0696788802743, -2.47713318094611)</td>\n",
       "      <td>[35.65579643643311]</td>\n",
       "      <td>[1298]</td>\n",
       "      <td>[193]</td>\n",
       "      <td>[631]</td>\n",
       "    </tr>\n",
       "    <tr>\n",
       "      <th>1</th>\n",
       "      <td>00v5fe</td>\n",
       "      <td>Untitled</td>\n",
       "      <td>Garmin Connect</td>\n",
       "      <td>(37.1465449780226, -3.56366956606507)</td>\n",
       "      <td>[28.30995863439158]</td>\n",
       "      <td>[433]</td>\n",
       "      <td>[680]</td>\n",
       "      <td>[1054]</td>\n",
       "    </tr>\n",
       "    <tr>\n",
       "      <th>2</th>\n",
       "      <td>f4r9n2</td>\n",
       "      <td>Carretera costa Asterrika Baurdo</td>\n",
       "      <td>Garmin Connect</td>\n",
       "      <td>(43.3455239608884, -2.48506112024188)</td>\n",
       "      <td>[34.621333051583576]</td>\n",
       "      <td>[869]</td>\n",
       "      <td>[6]</td>\n",
       "      <td>[226]</td>\n",
       "    </tr>\n",
       "    <tr>\n",
       "      <th>3</th>\n",
       "      <td>lu6s5f</td>\n",
       "      <td>Circuito AlbuÃ±uelas</td>\n",
       "      <td>Garmin Connect</td>\n",
       "      <td>(37.1134440042078, -3.61588572151959)</td>\n",
       "      <td>[71.29276829383188]</td>\n",
       "      <td>[946]</td>\n",
       "      <td>[503]</td>\n",
       "      <td>[874]</td>\n",
       "    </tr>\n",
       "    <tr>\n",
       "      <th>4</th>\n",
       "      <td>rgxaz9</td>\n",
       "      <td>prova</td>\n",
       "      <td>Garmin Connect</td>\n",
       "      <td>(41.6769059747458, 1.2808879930526)</td>\n",
       "      <td>[53.19353112278639]</td>\n",
       "      <td>[677]</td>\n",
       "      <td>[485]</td>\n",
       "      <td>[767]</td>\n",
       "    </tr>\n",
       "  </tbody>\n",
       "</table>\n",
       "</div>"
      ],
      "text/plain": [
       "     name                     original_name          source  \\\n",
       "0  54yu2w               besaide martxa 2011  Garmin Connect   \n",
       "1  00v5fe                          Untitled  Garmin Connect   \n",
       "2  f4r9n2  Carretera costa Asterrika Baurdo  Garmin Connect   \n",
       "3  lu6s5f              Circuito AlbuÃ±uelas  Garmin Connect   \n",
       "4  rgxaz9                             prova  Garmin Connect   \n",
       "\n",
       "                                   start              distance   climb  \\\n",
       "0  (43.0696788802743, -2.47713318094611)   [35.65579643643311]  [1298]   \n",
       "1  (37.1465449780226, -3.56366956606507)   [28.30995863439158]   [433]   \n",
       "2  (43.3455239608884, -2.48506112024188)  [34.621333051583576]   [869]   \n",
       "3  (37.1134440042078, -3.61588572151959)   [71.29276829383188]   [946]   \n",
       "4    (41.6769059747458, 1.2808879930526)   [53.19353112278639]   [677]   \n",
       "\n",
       "  min_alt max_alt  \n",
       "0   [193]   [631]  \n",
       "1   [680]  [1054]  \n",
       "2     [6]   [226]  \n",
       "3   [503]   [874]  \n",
       "4   [485]   [767]  "
      ]
     },
     "execution_count": 18,
     "metadata": {},
     "output_type": "execute_result"
    }
   ],
   "source": [
    "df.head()"
   ]
  },
  {
   "cell_type": "code",
   "execution_count": 79,
   "id": "5d63df3e",
   "metadata": {
    "scrolled": false
   },
   "outputs": [
    {
     "name": "stdout",
     "output_type": "stream",
     "text": [
      "<class 'pandas.core.frame.DataFrame'>\n",
      "RangeIndex: 10000 entries, 0 to 9999\n",
      "Data columns (total 8 columns):\n",
      " #   Column         Non-Null Count  Dtype \n",
      "---  ------         --------------  ----- \n",
      " 0   name           10000 non-null  object\n",
      " 1   original_name  10000 non-null  object\n",
      " 2   source         10000 non-null  object\n",
      " 3   start          10000 non-null  object\n",
      " 4   distance       10000 non-null  object\n",
      " 5   climb          10000 non-null  object\n",
      " 6   min_alt        10000 non-null  object\n",
      " 7   max_alt        10000 non-null  object\n",
      "dtypes: object(8)\n",
      "memory usage: 625.1+ KB\n"
     ]
    }
   ],
   "source": [
    "df.info()"
   ]
  },
  {
   "cell_type": "markdown",
   "id": "b75ac0cc",
   "metadata": {},
   "source": [
    "## TESTING"
   ]
  },
  {
   "cell_type": "code",
   "execution_count": 35,
   "id": "3c5405c6",
   "metadata": {},
   "outputs": [],
   "source": [
    "#Our parser function.\n",
    "\n",
    "def parser(file, name):\n",
    "    try:\n",
    "        gpx_file = open(file, 'r') \n",
    "        gpx = gpxpy.parse(gpx_file) \n",
    "        coords = []\n",
    "        for track in gpx.tracks:\n",
    "            for segment in track.segments:        \n",
    "                for point in segment.points:\n",
    "                    coords.append(tuple([point.latitude, point.longitude]))\n",
    "        parsed_file = {'name': name,\n",
    "                       'original_name': track.name,\n",
    "                        'source': gpx.creator,\n",
    "                        'start': str(tuple([coords[0][0], coords[0][1]])),\n",
    "                        'distance': track.length_3d()/1000, \n",
    "                        'climb': int(gpx.get_uphill_downhill()[0]),\n",
    "                        'min_alt': int(gpx.get_elevation_extremes()[0]),\n",
    "                        'max_alt': int(gpx.get_elevation_extremes()[1])}\n",
    "        with open('generated_gpx/' + name + \".gpx\", \"w\") as f:\n",
    "            f.write(gpx.to_xml())\n",
    "        return parsed_file\n",
    "    except:\n",
    "        gpx_file = open(file, 'r', encoding='utf-8') \n",
    "        gpx = gpxpy.parse(gpx_file) \n",
    "        coords = []\n",
    "        for track in gpx.tracks:\n",
    "            for segment in track.segments:        \n",
    "                for point in segment.points:\n",
    "                    coords.append(tuple([point.latitude, point.longitude]))\n",
    "        parsed_file = {'name': name,\n",
    "                       'original_name': track.name,\n",
    "                        'source': gpx.creator,\n",
    "                        'start': str(tuple([coords[0][0], coords[0][1]])),\n",
    "                        'distance': track.length_3d()/1000, \n",
    "                        'climb': int(gpx.get_uphill_downhill()[0]),\n",
    "                        'min_alt': int(gpx.get_elevation_extremes()[0]),\n",
    "                        'max_alt': int(gpx.get_elevation_extremes()[1])}\n",
    "        with open('generated_gpx/' + name + \".gpx\", \"w\") as f:\n",
    "            f.write(gpx.to_xml())\n",
    "        return parsed_file"
   ]
  },
  {
   "cell_type": "code",
   "execution_count": 36,
   "id": "93f22ee7",
   "metadata": {},
   "outputs": [
    {
     "name": "stdout",
     "output_type": "stream",
     "text": [
      "Minutes: 0.08963996569315592\n"
     ]
    }
   ],
   "source": [
    "start = time.time()\n",
    "\n",
    "df = gpx_creator()\n",
    "\n",
    "stop = time.time() #Stopping our timer.\n",
    "duration = (stop - start) / 60\n",
    "\n",
    "print('Minutes:', duration)"
   ]
  },
  {
   "cell_type": "code",
   "execution_count": 37,
   "id": "d0f75f66",
   "metadata": {},
   "outputs": [
    {
     "data": {
      "text/html": [
       "<div>\n",
       "<style scoped>\n",
       "    .dataframe tbody tr th:only-of-type {\n",
       "        vertical-align: middle;\n",
       "    }\n",
       "\n",
       "    .dataframe tbody tr th {\n",
       "        vertical-align: top;\n",
       "    }\n",
       "\n",
       "    .dataframe thead th {\n",
       "        text-align: right;\n",
       "    }\n",
       "</style>\n",
       "<table border=\"1\" class=\"dataframe\">\n",
       "  <thead>\n",
       "    <tr style=\"text-align: right;\">\n",
       "      <th></th>\n",
       "      <th>name</th>\n",
       "      <th>original_name</th>\n",
       "      <th>source</th>\n",
       "      <th>start</th>\n",
       "      <th>distance</th>\n",
       "      <th>climb</th>\n",
       "      <th>min_alt</th>\n",
       "      <th>max_alt</th>\n",
       "    </tr>\n",
       "  </thead>\n",
       "  <tbody>\n",
       "    <tr>\n",
       "      <th>0</th>\n",
       "      <td>54yu2w</td>\n",
       "      <td>besaide martxa 2011</td>\n",
       "      <td>Garmin Connect</td>\n",
       "      <td>(43.0696788802743, -2.47713318094611)</td>\n",
       "      <td>35.655796</td>\n",
       "      <td>1298</td>\n",
       "      <td>193</td>\n",
       "      <td>631</td>\n",
       "    </tr>\n",
       "    <tr>\n",
       "      <th>1</th>\n",
       "      <td>00v5fe</td>\n",
       "      <td>Untitled</td>\n",
       "      <td>Garmin Connect</td>\n",
       "      <td>(37.1465449780226, -3.56366956606507)</td>\n",
       "      <td>28.309959</td>\n",
       "      <td>433</td>\n",
       "      <td>680</td>\n",
       "      <td>1054</td>\n",
       "    </tr>\n",
       "    <tr>\n",
       "      <th>2</th>\n",
       "      <td>f4r9n2</td>\n",
       "      <td>Carretera costa Asterrika Baurdo</td>\n",
       "      <td>Garmin Connect</td>\n",
       "      <td>(43.3455239608884, -2.48506112024188)</td>\n",
       "      <td>34.621333</td>\n",
       "      <td>869</td>\n",
       "      <td>6</td>\n",
       "      <td>226</td>\n",
       "    </tr>\n",
       "    <tr>\n",
       "      <th>3</th>\n",
       "      <td>lu6s5f</td>\n",
       "      <td>Circuito AlbuÃ±uelas</td>\n",
       "      <td>Garmin Connect</td>\n",
       "      <td>(37.1134440042078, -3.61588572151959)</td>\n",
       "      <td>71.292768</td>\n",
       "      <td>946</td>\n",
       "      <td>503</td>\n",
       "      <td>874</td>\n",
       "    </tr>\n",
       "    <tr>\n",
       "      <th>4</th>\n",
       "      <td>rgxaz9</td>\n",
       "      <td>prova</td>\n",
       "      <td>Garmin Connect</td>\n",
       "      <td>(41.6769059747458, 1.2808879930526)</td>\n",
       "      <td>53.193531</td>\n",
       "      <td>677</td>\n",
       "      <td>485</td>\n",
       "      <td>767</td>\n",
       "    </tr>\n",
       "  </tbody>\n",
       "</table>\n",
       "</div>"
      ],
      "text/plain": [
       "     name                     original_name          source  \\\n",
       "0  54yu2w               besaide martxa 2011  Garmin Connect   \n",
       "1  00v5fe                          Untitled  Garmin Connect   \n",
       "2  f4r9n2  Carretera costa Asterrika Baurdo  Garmin Connect   \n",
       "3  lu6s5f              Circuito AlbuÃ±uelas  Garmin Connect   \n",
       "4  rgxaz9                             prova  Garmin Connect   \n",
       "\n",
       "                                   start   distance  climb  min_alt  max_alt  \n",
       "0  (43.0696788802743, -2.47713318094611)  35.655796   1298      193      631  \n",
       "1  (37.1465449780226, -3.56366956606507)  28.309959    433      680     1054  \n",
       "2  (43.3455239608884, -2.48506112024188)  34.621333    869        6      226  \n",
       "3  (37.1134440042078, -3.61588572151959)  71.292768    946      503      874  \n",
       "4    (41.6769059747458, 1.2808879930526)  53.193531    677      485      767  "
      ]
     },
     "execution_count": 37,
     "metadata": {},
     "output_type": "execute_result"
    }
   ],
   "source": [
    "df.head()"
   ]
  },
  {
   "cell_type": "markdown",
   "id": "be79d12b",
   "metadata": {},
   "source": [
    "## Assigning country to each route"
   ]
  },
  {
   "cell_type": "markdown",
   "id": "a872f347",
   "metadata": {},
   "source": [
    "For this purpose we'll be using *Nominatim*."
   ]
  },
  {
   "cell_type": "code",
   "execution_count": 39,
   "id": "02fcbb9d",
   "metadata": {},
   "outputs": [],
   "source": [
    "#Initializing an instance.\n",
    "\n",
    "app = Nominatim(user_agent=\"tutorial\")"
   ]
  },
  {
   "cell_type": "code",
   "execution_count": 45,
   "id": "64578d58",
   "metadata": {},
   "outputs": [],
   "source": [
    "#Testing a function I found online:\n",
    "\n",
    "def get_address_by_location(latitude, longitude, language=\"en\"):\n",
    "    \"\"\"This function returns an address as raw from a location\n",
    "    will repeat until success\"\"\"\n",
    "    # build coordinates string to pass to reverse() function\n",
    "    coordinates = f\"{latitude}, {longitude}\"\n",
    "    # sleep for a second to respect Usage Policy\n",
    "    time.sleep(1)\n",
    "    try:\n",
    "        return app.reverse(coordinates, language=language).raw\n",
    "    except:\n",
    "        return get_address_by_location(latitude, longitude)"
   ]
  },
  {
   "cell_type": "code",
   "execution_count": 46,
   "id": "a61d1674",
   "metadata": {},
   "outputs": [],
   "source": [
    "#Testing the function.\n",
    "\n",
    "address = get_address_by_location(41.6769059747458, 1.2808879930526)"
   ]
  },
  {
   "cell_type": "code",
   "execution_count": 91,
   "id": "3395d7b4",
   "metadata": {},
   "outputs": [
    {
     "data": {
      "text/plain": [
       "'Spain'"
      ]
     },
     "execution_count": 91,
     "metadata": {},
     "output_type": "execute_result"
    }
   ],
   "source": [
    "#Accessing the country.\n",
    "\n",
    "address['address']['country']"
   ]
  },
  {
   "cell_type": "code",
   "execution_count": 93,
   "id": "fbb20be7",
   "metadata": {},
   "outputs": [],
   "source": [
    "#Incorporating the function into our parser:\n",
    "\n",
    "#Our parser function.\n",
    "\n",
    "def parser(file, name):\n",
    "    try:\n",
    "        gpx_file = open(file, 'r') \n",
    "        gpx = gpxpy.parse(gpx_file) \n",
    "        coords = []\n",
    "        for track in gpx.tracks:\n",
    "            for segment in track.segments:        \n",
    "                for point in segment.points:\n",
    "                    coords.append(tuple([point.latitude, point.longitude]))\n",
    "        country = get_address_by_location(coords[0][0], coords[0][1])['address']['country']\n",
    "        parsed_file = {'name': name,\n",
    "                       'original_name': track.name,\n",
    "                        'source': gpx.creator,\n",
    "                        'country': country,\n",
    "                        'start': str(tuple([coords[0][0], coords[0][1]])),\n",
    "                        'distance': track.length_3d()/1000, \n",
    "                        'climb': int(gpx.get_uphill_downhill()[0]),\n",
    "                        'min_alt': int(gpx.get_elevation_extremes()[0]),\n",
    "                        'max_alt': int(gpx.get_elevation_extremes()[1])}\n",
    "        with open('generated_gpx/' + name + \".gpx\", \"w\") as f:\n",
    "            f.write(gpx.to_xml())\n",
    "        return parsed_file\n",
    "    except:\n",
    "        gpx_file = open(file, 'r', encoding='utf-8') \n",
    "        gpx = gpxpy.parse(gpx_file) \n",
    "        coords = []\n",
    "        for track in gpx.tracks:\n",
    "            for segment in track.segments:        \n",
    "                for point in segment.points:\n",
    "                    coords.append(tuple([point.latitude, point.longitude]))\n",
    "        country = get_address_by_location(coords[0][0], coords[0][1])['address']['country']\n",
    "        parsed_file = {'name': name,\n",
    "                       'original_name': track.name,\n",
    "                        'source': gpx.creator,\n",
    "                        'country': country,\n",
    "                        'start': str(tuple([coords[0][0], coords[0][1]])),\n",
    "                        'distance': track.length_3d()/1000, \n",
    "                        'climb': int(gpx.get_uphill_downhill()[0]),\n",
    "                        'min_alt': int(gpx.get_elevation_extremes()[0]),\n",
    "                        'max_alt': int(gpx.get_elevation_extremes()[1])}\n",
    "        with open('generated_gpx/' + name + \".gpx\", \"w\") as f:\n",
    "            f.write(gpx.to_xml())\n",
    "        return parsed_file"
   ]
  },
  {
   "cell_type": "code",
   "execution_count": 94,
   "id": "24e7f526",
   "metadata": {},
   "outputs": [
    {
     "name": "stdout",
     "output_type": "stream",
     "text": [
      "Minutes: 1.9374013145764668\n"
     ]
    }
   ],
   "source": [
    "#Testing our new parser function:\n",
    "\n",
    "start = time.time()\n",
    "\n",
    "df = gpx_creator()\n",
    "\n",
    "stop = time.time() #Stopping our timer.\n",
    "duration = (stop - start) / 60\n",
    "\n",
    "print('Minutes:', duration)"
   ]
  },
  {
   "cell_type": "code",
   "execution_count": 97,
   "id": "8573da2a",
   "metadata": {
    "scrolled": true
   },
   "outputs": [
    {
     "data": {
      "text/html": [
       "<div>\n",
       "<style scoped>\n",
       "    .dataframe tbody tr th:only-of-type {\n",
       "        vertical-align: middle;\n",
       "    }\n",
       "\n",
       "    .dataframe tbody tr th {\n",
       "        vertical-align: top;\n",
       "    }\n",
       "\n",
       "    .dataframe thead th {\n",
       "        text-align: right;\n",
       "    }\n",
       "</style>\n",
       "<table border=\"1\" class=\"dataframe\">\n",
       "  <thead>\n",
       "    <tr style=\"text-align: right;\">\n",
       "      <th></th>\n",
       "      <th>name</th>\n",
       "      <th>original_name</th>\n",
       "      <th>source</th>\n",
       "      <th>country</th>\n",
       "      <th>start</th>\n",
       "      <th>distance</th>\n",
       "      <th>climb</th>\n",
       "      <th>min_alt</th>\n",
       "      <th>max_alt</th>\n",
       "    </tr>\n",
       "  </thead>\n",
       "  <tbody>\n",
       "    <tr>\n",
       "      <th>0</th>\n",
       "      <td>54yu2w</td>\n",
       "      <td>besaide martxa 2011</td>\n",
       "      <td>Garmin Connect</td>\n",
       "      <td>Spain</td>\n",
       "      <td>(43.0696788802743, -2.47713318094611)</td>\n",
       "      <td>35.655796</td>\n",
       "      <td>1298</td>\n",
       "      <td>193</td>\n",
       "      <td>631</td>\n",
       "    </tr>\n",
       "    <tr>\n",
       "      <th>1</th>\n",
       "      <td>00v5fe</td>\n",
       "      <td>Untitled</td>\n",
       "      <td>Garmin Connect</td>\n",
       "      <td>Spain</td>\n",
       "      <td>(37.1465449780226, -3.56366956606507)</td>\n",
       "      <td>28.309959</td>\n",
       "      <td>433</td>\n",
       "      <td>680</td>\n",
       "      <td>1054</td>\n",
       "    </tr>\n",
       "    <tr>\n",
       "      <th>2</th>\n",
       "      <td>f4r9n2</td>\n",
       "      <td>Carretera costa Asterrika Baurdo</td>\n",
       "      <td>Garmin Connect</td>\n",
       "      <td>Spain</td>\n",
       "      <td>(43.3455239608884, -2.48506112024188)</td>\n",
       "      <td>34.621333</td>\n",
       "      <td>869</td>\n",
       "      <td>6</td>\n",
       "      <td>226</td>\n",
       "    </tr>\n",
       "    <tr>\n",
       "      <th>3</th>\n",
       "      <td>lu6s5f</td>\n",
       "      <td>Circuito AlbuÃ±uelas</td>\n",
       "      <td>Garmin Connect</td>\n",
       "      <td>Spain</td>\n",
       "      <td>(37.1134440042078, -3.61588572151959)</td>\n",
       "      <td>71.292768</td>\n",
       "      <td>946</td>\n",
       "      <td>503</td>\n",
       "      <td>874</td>\n",
       "    </tr>\n",
       "    <tr>\n",
       "      <th>4</th>\n",
       "      <td>rgxaz9</td>\n",
       "      <td>prova</td>\n",
       "      <td>Garmin Connect</td>\n",
       "      <td>Spain</td>\n",
       "      <td>(41.6769059747458, 1.2808879930526)</td>\n",
       "      <td>53.193531</td>\n",
       "      <td>677</td>\n",
       "      <td>485</td>\n",
       "      <td>767</td>\n",
       "    </tr>\n",
       "  </tbody>\n",
       "</table>\n",
       "</div>"
      ],
      "text/plain": [
       "     name                     original_name          source country  \\\n",
       "0  54yu2w               besaide martxa 2011  Garmin Connect   Spain   \n",
       "1  00v5fe                          Untitled  Garmin Connect   Spain   \n",
       "2  f4r9n2  Carretera costa Asterrika Baurdo  Garmin Connect   Spain   \n",
       "3  lu6s5f              Circuito AlbuÃ±uelas  Garmin Connect   Spain   \n",
       "4  rgxaz9                             prova  Garmin Connect   Spain   \n",
       "\n",
       "                                   start   distance  climb  min_alt  max_alt  \n",
       "0  (43.0696788802743, -2.47713318094611)  35.655796   1298      193      631  \n",
       "1  (37.1465449780226, -3.56366956606507)  28.309959    433      680     1054  \n",
       "2  (43.3455239608884, -2.48506112024188)  34.621333    869        6      226  \n",
       "3  (37.1134440042078, -3.61588572151959)  71.292768    946      503      874  \n",
       "4    (41.6769059747458, 1.2808879930526)  53.193531    677      485      767  "
      ]
     },
     "execution_count": 97,
     "metadata": {},
     "output_type": "execute_result"
    }
   ],
   "source": [
    "df.head(5)"
   ]
  },
  {
   "cell_type": "markdown",
   "id": "ca674364",
   "metadata": {},
   "source": [
    "The function works fine but it takes a very long time to process each file. This is unacceptable, I will have to find a better (faster) way of determining a route's country of origin."
   ]
  }
 ],
 "metadata": {
  "kernelspec": {
   "display_name": "Python 3",
   "language": "python",
   "name": "python3"
  },
  "language_info": {
   "codemirror_mode": {
    "name": "ipython",
    "version": 3
   },
   "file_extension": ".py",
   "mimetype": "text/x-python",
   "name": "python",
   "nbconvert_exporter": "python",
   "pygments_lexer": "ipython3",
   "version": "3.8.8"
  },
  "toc": {
   "base_numbering": 1,
   "nav_menu": {},
   "number_sections": true,
   "sideBar": true,
   "skip_h1_title": false,
   "title_cell": "Table of Contents",
   "title_sidebar": "Contents",
   "toc_cell": false,
   "toc_position": {},
   "toc_section_display": true,
   "toc_window_display": false
  },
  "varInspector": {
   "cols": {
    "lenName": 16,
    "lenType": 16,
    "lenVar": 40
   },
   "kernels_config": {
    "python": {
     "delete_cmd_postfix": "",
     "delete_cmd_prefix": "del ",
     "library": "var_list.py",
     "varRefreshCmd": "print(var_dic_list())"
    },
    "r": {
     "delete_cmd_postfix": ") ",
     "delete_cmd_prefix": "rm(",
     "library": "var_list.r",
     "varRefreshCmd": "cat(var_dic_list()) "
    }
   },
   "types_to_exclude": [
    "module",
    "function",
    "builtin_function_or_method",
    "instance",
    "_Feature"
   ],
   "window_display": false
  }
 },
 "nbformat": 4,
 "nbformat_minor": 5
}
