{
 "cells": [
  {
   "cell_type": "markdown",
   "id": "34612091",
   "metadata": {},
   "source": [
    "# Scraping gpx files from Bikemap.net"
   ]
  },
  {
   "cell_type": "markdown",
   "id": "2af073c8",
   "metadata": {},
   "source": [
    "This notebook will be used to download *gpx* files for spanish routes from *Bikemap.net*."
   ]
  },
  {
   "cell_type": "code",
   "execution_count": 1,
   "id": "61742a70",
   "metadata": {},
   "outputs": [],
   "source": [
    "#Importing libraries.\n",
    "\n",
    "import pandas as pd\n",
    "import requests\n",
    "from selenium import webdriver\n",
    "from selenium.webdriver.common.keys import Keys\n",
    "from bs4 import BeautifulSoup\n",
    "import time\n",
    "from selenium.webdriver.common.by import By\n",
    "from selenium.webdriver.support.ui import WebDriverWait\n",
    "from selenium.webdriver.support import expected_conditions as EC"
   ]
  },
  {
   "cell_type": "code",
   "execution_count": 2,
   "id": "1f123a03",
   "metadata": {},
   "outputs": [],
   "source": [
    "#Initializing our webdriver (Chrome).\n",
    "\n",
    "driver = webdriver.Chrome()"
   ]
  },
  {
   "cell_type": "code",
   "execution_count": 3,
   "id": "581671f5",
   "metadata": {},
   "outputs": [],
   "source": [
    "#Accessing the site.\n",
    "\n",
    "driver.get('https://www.bikemap.net/en/search/?page=2&pageSize=12&categories=1&bounds=3.317718946000099%2C43.793443101%2C-9.291981574999909%2C36.006455796000076&location=2510769')"
   ]
  },
  {
   "cell_type": "code",
   "execution_count": null,
   "id": "a3e1732b",
   "metadata": {},
   "outputs": [],
   "source": [
    "start = time.time()\n",
    "\n",
    "for i in range(1760000,1800000):\n",
    "    try:\n",
    "        driver.get('https://maptoolkit.net/export/outdoorish_bikemap_routes/' + str(i) + '.gpx')\n",
    "    except:\n",
    "        pass\n",
    "\n",
    "stop = time.time() \n",
    "duration = int(stop - start) / 60\n",
    "print('Minutes:', duration)"
   ]
  },
  {
   "cell_type": "code",
   "execution_count": null,
   "id": "27fb6fa0",
   "metadata": {},
   "outputs": [],
   "source": []
  }
 ],
 "metadata": {
  "kernelspec": {
   "display_name": "Python 3",
   "language": "python",
   "name": "python3"
  },
  "language_info": {
   "codemirror_mode": {
    "name": "ipython",
    "version": 3
   },
   "file_extension": ".py",
   "mimetype": "text/x-python",
   "name": "python",
   "nbconvert_exporter": "python",
   "pygments_lexer": "ipython3",
   "version": "3.8.8"
  },
  "toc": {
   "base_numbering": 1,
   "nav_menu": {},
   "number_sections": true,
   "sideBar": true,
   "skip_h1_title": false,
   "title_cell": "Table of Contents",
   "title_sidebar": "Contents",
   "toc_cell": false,
   "toc_position": {},
   "toc_section_display": true,
   "toc_window_display": false
  },
  "varInspector": {
   "cols": {
    "lenName": 16,
    "lenType": 16,
    "lenVar": 40
   },
   "kernels_config": {
    "python": {
     "delete_cmd_postfix": "",
     "delete_cmd_prefix": "del ",
     "library": "var_list.py",
     "varRefreshCmd": "print(var_dic_list())"
    },
    "r": {
     "delete_cmd_postfix": ") ",
     "delete_cmd_prefix": "rm(",
     "library": "var_list.r",
     "varRefreshCmd": "cat(var_dic_list()) "
    }
   },
   "types_to_exclude": [
    "module",
    "function",
    "builtin_function_or_method",
    "instance",
    "_Feature"
   ],
   "window_display": false
  }
 },
 "nbformat": 4,
 "nbformat_minor": 5
}
