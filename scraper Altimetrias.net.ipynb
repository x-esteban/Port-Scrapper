{
 "cells": [
  {
   "cell_type": "markdown",
   "id": "34612091",
   "metadata": {},
   "source": [
    "# Scraping all port locations from Altimetrias.net"
   ]
  },
  {
   "cell_type": "markdown",
   "id": "2af073c8",
   "metadata": {},
   "source": [
    "This notebook will be used to extract the port information for every mountain pass available from *Altimetrias.net*."
   ]
  },
  {
   "cell_type": "code",
   "execution_count": 1,
   "id": "61742a70",
   "metadata": {},
   "outputs": [],
   "source": [
    "#Importing libraries.\n",
    "\n",
    "import pandas as pd\n",
    "import requests\n",
    "from selenium import webdriver\n",
    "from selenium.webdriver.common.keys import Keys\n",
    "from bs4 import BeautifulSoup\n",
    "import time\n",
    "from selenium.webdriver.common.by import By\n",
    "from selenium.webdriver.support.ui import WebDriverWait\n",
    "from selenium.webdriver.support import expected_conditions as EC"
   ]
  },
  {
   "cell_type": "code",
   "execution_count": 93,
   "id": "1f123a03",
   "metadata": {},
   "outputs": [],
   "source": [
    "#Initializing our webdriver (Chrome).\n",
    "\n",
    "driver = webdriver.Chrome()"
   ]
  },
  {
   "cell_type": "code",
   "execution_count": 96,
   "id": "581671f5",
   "metadata": {},
   "outputs": [],
   "source": [
    "driver.get('https://www.altimetrias.net/todoslospuertos/ListadoPuertos.asp?Provincia=&Pag=1&Tipo=&Ord=&buscar=')"
   ]
  },
  {
   "cell_type": "code",
   "execution_count": 101,
   "id": "642e417d",
   "metadata": {},
   "outputs": [],
   "source": [
    "name = driver.find_element_by_xpath('/html/body/table[1]/tbody/tr[5]/td[1]').text\n",
    "provincia = driver.find_element_by_xpath('/html/body/table[1]/tbody/tr[5]/td[3]').text\n",
    "alt = driver.find_element_by_xpath('/html/body/table[1]/tbody/tr[5]/td[4]').text\n",
    "desnivel = driver.find_element_by_xpath('/html/body/table[1]/tbody/tr[5]/td[5]').text\n",
    "dist = driver.find_element_by_xpath('/html/body/table[1]/tbody/tr[5]/td[6]').text\n",
    "pendiente = driver.find_element_by_xpath('/html/body/table[1]/tbody/tr[5]/td[7]').text\n",
    "coef = driver.find_element_by_xpath('/html/body/table[1]/tbody/tr[5]/td[8]').text\n",
    "la_ini = driver.find_element_by_xpath('/html/body/table[1]/tbody/tr[5]/td[9]').text\n",
    "lo_ini = driver.find_element_by_xpath('/html/body/table[1]/tbody/tr[5]/td[10]').text\n",
    "la_fin = driver.find_element_by_xpath('/html/body/table[1]/tbody/tr[5]/td[11]').text\n",
    "lo_fin = driver.find_element_by_xpath('/html/body/table[1]/tbody/tr[5]/td[12]').text"
   ]
  },
  {
   "cell_type": "code",
   "execution_count": 102,
   "id": "a3e1732b",
   "metadata": {},
   "outputs": [
    {
     "name": "stdout",
     "output_type": "stream",
     "text": [
      " Abantos por El Tomillar Madrid 1640 m  677 m  13,1 Km  5,17 %  133    40.609359   -4.116826   40.616184   -4.176414 \n"
     ]
    }
   ],
   "source": [
    "print(name, provincia, alt, desnivel, dist, pendiente, coef, la_ini, lo_ini, la_fin, lo_fin)"
   ]
  },
  {
   "cell_type": "code",
   "execution_count": 49,
   "id": "be13942f",
   "metadata": {},
   "outputs": [],
   "source": [
    "puerto = {'name': name,'provincia': provincia,'alt': alt, 'desnivel': desnivel, 'dist': dist, 'pendiente': pendiente, 'coef': coef, 'la_ini': la_ini, 'lo_ini': lo_ini, 'la_fin': la_fin, 'lo_fin': lo_fin}"
   ]
  },
  {
   "cell_type": "code",
   "execution_count": 50,
   "id": "e1cd764e",
   "metadata": {},
   "outputs": [
    {
     "data": {
      "text/plain": [
       "{'name': ' Abantos por El Tomillar',\n",
       " 'provincia': 'Madrid',\n",
       " 'alt': '1640 m ',\n",
       " 'desnivel': '677 m ',\n",
       " 'dist': '13,1 Km ',\n",
       " 'pendiente': '5,17 % ',\n",
       " 'coef': '133  ',\n",
       " 'la_ini': ' 40.609359 ',\n",
       " 'lo_ini': ' -4.116826 ',\n",
       " 'la_fin': ' 40.616184 ',\n",
       " 'lo_fin': ' -4.176414 '}"
      ]
     },
     "execution_count": 50,
     "metadata": {},
     "output_type": "execute_result"
    }
   ],
   "source": [
    "puerto"
   ]
  },
  {
   "cell_type": "code",
   "execution_count": 94,
   "id": "4307c51c",
   "metadata": {},
   "outputs": [
    {
     "ename": "SyntaxError",
     "evalue": "unexpected EOF while parsing (<ipython-input-94-251c48e8f1f5>, line 20)",
     "output_type": "error",
     "traceback": [
      "\u001b[1;36m  File \u001b[1;32m\"<ipython-input-94-251c48e8f1f5>\"\u001b[1;36m, line \u001b[1;32m20\u001b[0m\n\u001b[1;33m    \u001b[0m\n\u001b[1;37m    ^\u001b[0m\n\u001b[1;31mSyntaxError\u001b[0m\u001b[1;31m:\u001b[0m unexpected EOF while parsing\n"
     ]
    }
   ],
   "source": [
    "port_list = []\n",
    "\n",
    "for i in range(92):\n",
    "    try:\n",
    "        for n in range(5,45):\n",
    "            try:\n",
    "                driver.get('https://www.altimetrias.net/todoslospuertos/ListadoPuertos.asp?Provincia=&Pag=' + str(i) + '&Tipo=&Ord=&buscar=')\n",
    "                time.sleep(3)\n",
    "                name = driver.find_element_by_xpath('/html/body/table[1]/tbody/tr['+str(n)+']/td[1]').text\n",
    "                provincia = driver.find_element_by_xpath('/html/body/table[1]/tbody/tr['+str(n)+']/td[3]').text\n",
    "                alt = driver.find_element_by_xpath('/html/body/table[1]/tbody/tr['+str(n)+']/td[4]').text\n",
    "                desnivel = driver.find_element_by_xpath('/html/body/table[1]/tbody/tr['+str(n)+']/td[5]').text\n",
    "                dist = driver.find_element_by_xpath('/html/body/table[1]/tbody/tr['+str(n)+']/td[6]').text\n",
    "                pendiente = driver.find_element_by_xpath('/html/body/table[1]/tbody/tr[5]/td[7]').text\n",
    "                coef = driver.find_element_by_xpath('/html/body/table[1]/tbody/tr['+str(n)+']/td[8]').text\n",
    "                la_ini = driver.find_element_by_xpath('/html/body/table[1]/tbody/tr['+str(n)+']/td[9]').text\n",
    "                lo_ini = driver.find_element_by_xpath('/html/body/table[1]/tbody/tr['+str(n)+']/td[10]').text\n",
    "                la_fin = driver.find_element_by_xpath('/html/body/table[1]/tbody/tr['+str(n)+']/td[11]').text\n",
    "                lo_fin = driver.find_element_by_xpath('/html/body/table[1]/tbody/tr['+str(n)+']/td[12]').text\n",
    "    "
   ]
  },
  {
   "cell_type": "code",
   "execution_count": 64,
   "id": "6a511c20",
   "metadata": {},
   "outputs": [],
   "source": [
    "i = 1\n",
    "n = 20\n",
    "\n",
    "driver.get('https://www.altimetrias.net/todoslospuertos/ListadoPuertos.asp?Provincia=&Pag=' + str(i) + '&Tipo=&Ord=&buscar=')\n",
    "time.sleep(3)\n",
    "name = driver.find_element_by_xpath('/html/body/table[1]/tbody/tr['+str(n)+']/td[1]').text\n",
    "provincia = driver.find_element_by_xpath('/html/body/table[1]/tbody/tr['+str(n)+']/td[3]').text\n",
    "alt = driver.find_element_by_xpath('/html/body/table[1]/tbody/tr['+str(n)+']/td[4]').text\n",
    "desnivel = driver.find_element_by_xpath('/html/body/table[1]/tbody/tr['+str(n)+']/td[5]').text\n",
    "dist = driver.find_element_by_xpath('/html/body/table[1]/tbody/tr['+str(n)+']/td[6]').text\n",
    "pendiente = driver.find_element_by_xpath('/html/body/table[1]/tbody/tr[5]/td[7]').text\n",
    "coef = driver.find_element_by_xpath('/html/body/table[1]/tbody/tr['+str(n)+']/td[8]').text\n",
    "la_ini = driver.find_element_by_xpath('/html/body/table[1]/tbody/tr['+str(n)+']/td[9]').text\n",
    "lo_ini = driver.find_element_by_xpath('/html/body/table[1]/tbody/tr['+str(n)+']/td[10]').text\n",
    "la_fin = driver.find_element_by_xpath('/html/body/table[1]/tbody/tr['+str(n)+']/td[11]').text\n",
    "lo_fin = driver.find_element_by_xpath('/html/body/table[1]/tbody/tr['+str(n)+']/td[12]').text\n",
    "puerto = {'name': name,'provincia': provincia,'alt': alt, 'desnivel': desnivel, 'dist': dist, 'pendiente': pendiente, 'coef': coef, 'la_ini': la_ini, 'lo_ini': lo_ini, 'la_fin': la_fin, 'lo_fin': lo_fin}"
   ]
  },
  {
   "cell_type": "code",
   "execution_count": 65,
   "id": "90b145a2",
   "metadata": {},
   "outputs": [
    {
     "data": {
      "text/plain": [
       "{'name': ' Abionzo por por Villacarriedo',\n",
       " 'provincia': 'Cantabria',\n",
       " 'alt': '419 m ',\n",
       " 'desnivel': '219 m ',\n",
       " 'dist': '3,9 Km ',\n",
       " 'pendiente': '5,17 % ',\n",
       " 'coef': '37  ',\n",
       " 'la_ini': ' 43.230424 ',\n",
       " 'lo_ini': ' -3.805954 ',\n",
       " 'la_fin': ' 43.244962 ',\n",
       " 'lo_fin': ' -3.813329 '}"
      ]
     },
     "execution_count": 65,
     "metadata": {},
     "output_type": "execute_result"
    }
   ],
   "source": [
    "puerto"
   ]
  },
  {
   "cell_type": "code",
   "execution_count": 103,
   "id": "99c4f1d5",
   "metadata": {},
   "outputs": [],
   "source": [
    "port_list = []\n",
    "\n",
    "for i in range(1,92):\n",
    "    driver.get('https://www.altimetrias.net/todoslospuertos/ListadoPuertos.asp?Provincia=&Pag=' + str(i) + '&Tipo=&Ord=&buscar=')\n",
    "    time.sleep(1)\n",
    "    for n in range(5,45):\n",
    "        try:\n",
    "            name = driver.find_element_by_xpath('/html/body/table[1]/tbody/tr['+str(n)+']/td[1]').text\n",
    "            provincia = driver.find_element_by_xpath('/html/body/table[1]/tbody/tr['+str(n)+']/td[3]').text\n",
    "            alt = driver.find_element_by_xpath('/html/body/table[1]/tbody/tr['+str(n)+']/td[4]').text\n",
    "            desnivel = driver.find_element_by_xpath('/html/body/table[1]/tbody/tr['+str(n)+']/td[5]').text\n",
    "            dist = driver.find_element_by_xpath('/html/body/table[1]/tbody/tr['+str(n)+']/td[6]').text\n",
    "            pendiente = driver.find_element_by_xpath('/html/body/table[1]/tbody/tr['+str(n)+']/td[7]').text\n",
    "            coef = driver.find_element_by_xpath('/html/body/table[1]/tbody/tr['+str(n)+']/td[8]').text\n",
    "            la_ini = driver.find_element_by_xpath('/html/body/table[1]/tbody/tr['+str(n)+']/td[9]').text\n",
    "            lo_ini = driver.find_element_by_xpath('/html/body/table[1]/tbody/tr['+str(n)+']/td[10]').text\n",
    "            la_fin = driver.find_element_by_xpath('/html/body/table[1]/tbody/tr['+str(n)+']/td[11]').text\n",
    "            lo_fin = driver.find_element_by_xpath('/html/body/table[1]/tbody/tr['+str(n)+']/td[12]').text\n",
    "            puerto = {'name': name,'provincia': provincia,'alt': alt, 'desnivel': desnivel, 'dist': dist, 'pendiente': pendiente, 'coef': coef, 'la_ini': la_ini, 'lo_ini': lo_ini, 'la_fin': la_fin, 'lo_fin': lo_fin}\n",
    "            port_list.append(puerto)\n",
    "        except:\n",
    "            pass"
   ]
  },
  {
   "cell_type": "code",
   "execution_count": 104,
   "id": "ae5ad543",
   "metadata": {},
   "outputs": [],
   "source": [
    "df = pd.DataFrame(port_list)"
   ]
  },
  {
   "cell_type": "code",
   "execution_count": 105,
   "id": "fc39faac",
   "metadata": {
    "scrolled": false
   },
   "outputs": [
    {
     "name": "stdout",
     "output_type": "stream",
     "text": [
      "<class 'pandas.core.frame.DataFrame'>\n",
      "RangeIndex: 3640 entries, 0 to 3639\n",
      "Data columns (total 11 columns):\n",
      " #   Column     Non-Null Count  Dtype \n",
      "---  ------     --------------  ----- \n",
      " 0   name       3640 non-null   object\n",
      " 1   provincia  3640 non-null   object\n",
      " 2   alt        3640 non-null   object\n",
      " 3   desnivel   3640 non-null   object\n",
      " 4   dist       3640 non-null   object\n",
      " 5   pendiente  3640 non-null   object\n",
      " 6   coef       3640 non-null   object\n",
      " 7   la_ini     3640 non-null   object\n",
      " 8   lo_ini     3640 non-null   object\n",
      " 9   la_fin     3640 non-null   object\n",
      " 10  lo_fin     3640 non-null   object\n",
      "dtypes: object(11)\n",
      "memory usage: 312.9+ KB\n"
     ]
    }
   ],
   "source": [
    "df.info()"
   ]
  },
  {
   "cell_type": "code",
   "execution_count": 106,
   "id": "d6406a8e",
   "metadata": {},
   "outputs": [],
   "source": [
    "df.to_csv('df.csv', index=False)"
   ]
  },
  {
   "cell_type": "code",
   "execution_count": null,
   "id": "27fb6fa0",
   "metadata": {},
   "outputs": [],
   "source": []
  }
 ],
 "metadata": {
  "kernelspec": {
   "display_name": "Python 3",
   "language": "python",
   "name": "python3"
  },
  "language_info": {
   "codemirror_mode": {
    "name": "ipython",
    "version": 3
   },
   "file_extension": ".py",
   "mimetype": "text/x-python",
   "name": "python",
   "nbconvert_exporter": "python",
   "pygments_lexer": "ipython3",
   "version": "3.8.8"
  },
  "toc": {
   "base_numbering": 1,
   "nav_menu": {},
   "number_sections": true,
   "sideBar": true,
   "skip_h1_title": false,
   "title_cell": "Table of Contents",
   "title_sidebar": "Contents",
   "toc_cell": false,
   "toc_position": {},
   "toc_section_display": true,
   "toc_window_display": false
  },
  "varInspector": {
   "cols": {
    "lenName": 16,
    "lenType": 16,
    "lenVar": 40
   },
   "kernels_config": {
    "python": {
     "delete_cmd_postfix": "",
     "delete_cmd_prefix": "del ",
     "library": "var_list.py",
     "varRefreshCmd": "print(var_dic_list())"
    },
    "r": {
     "delete_cmd_postfix": ") ",
     "delete_cmd_prefix": "rm(",
     "library": "var_list.r",
     "varRefreshCmd": "cat(var_dic_list()) "
    }
   },
   "types_to_exclude": [
    "module",
    "function",
    "builtin_function_or_method",
    "instance",
    "_Feature"
   ],
   "window_display": false
  }
 },
 "nbformat": 4,
 "nbformat_minor": 5
}
