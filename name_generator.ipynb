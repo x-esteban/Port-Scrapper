{
 "cells": [
  {
   "cell_type": "markdown",
   "id": "0aced276",
   "metadata": {},
   "source": [
    "# Generating alphanumeric names for our files"
   ]
  },
  {
   "cell_type": "markdown",
   "id": "a1fca42e",
   "metadata": {},
   "source": [
    "To name our *gpx* files we will need a long list of names that present the highest possible different permutations in the shortest character span. In this case, 6 alphanumeric characters is enough for about 49 million names."
   ]
  },
  {
   "cell_type": "code",
   "execution_count": 2,
   "id": "62901cd5",
   "metadata": {},
   "outputs": [],
   "source": [
    "#Importing libraries.\n",
    "\n",
    "import pandas as pd\n",
    "import random, string"
   ]
  },
  {
   "cell_type": "code",
   "execution_count": 3,
   "id": "7d75bac2",
   "metadata": {},
   "outputs": [],
   "source": [
    "#Generating a list of names using alphanumeric characters.\n",
    "\n",
    "alpha = []\n",
    "\n",
    "for i in range(50000000):\n",
    "    x = ''.join(random.choice(string.ascii_lowercase + string.digits) for _ in range(6))\n",
    "    alpha.append(x)"
   ]
  },
  {
   "cell_type": "code",
   "execution_count": 4,
   "id": "4a2248f9",
   "metadata": {},
   "outputs": [],
   "source": [
    "#Dropping duplicate names.\n",
    "\n",
    "alpha = set(alpha)"
   ]
  },
  {
   "cell_type": "code",
   "execution_count": 5,
   "id": "9ec64c87",
   "metadata": {},
   "outputs": [
    {
     "data": {
      "text/plain": [
       "49429732"
      ]
     },
     "execution_count": 5,
     "metadata": {},
     "output_type": "execute_result"
    }
   ],
   "source": [
    "#Cheching the length of this list.\n",
    "\n",
    "len(alpha)"
   ]
  },
  {
   "cell_type": "code",
   "execution_count": 6,
   "id": "5f721e72",
   "metadata": {},
   "outputs": [],
   "source": [
    "#Storing our names as a dataframe for future use.\n",
    "\n",
    "names = pd.DataFrame(set(alpha), columns =['names'])"
   ]
  },
  {
   "cell_type": "code",
   "execution_count": 7,
   "id": "1ef36f3b",
   "metadata": {},
   "outputs": [],
   "source": [
    "#Saving it.\n",
    "\n",
    "names.to_csv('testnames.csv', index=False)"
   ]
  },
  {
   "cell_type": "code",
   "execution_count": null,
   "id": "e0ab7329",
   "metadata": {},
   "outputs": [],
   "source": []
  }
 ],
 "metadata": {
  "kernelspec": {
   "display_name": "Python 3",
   "language": "python",
   "name": "python3"
  },
  "language_info": {
   "codemirror_mode": {
    "name": "ipython",
    "version": 3
   },
   "file_extension": ".py",
   "mimetype": "text/x-python",
   "name": "python",
   "nbconvert_exporter": "python",
   "pygments_lexer": "ipython3",
   "version": "3.8.8"
  },
  "toc": {
   "base_numbering": 1,
   "nav_menu": {},
   "number_sections": true,
   "sideBar": true,
   "skip_h1_title": false,
   "title_cell": "Table of Contents",
   "title_sidebar": "Contents",
   "toc_cell": false,
   "toc_position": {},
   "toc_section_display": true,
   "toc_window_display": false
  },
  "varInspector": {
   "cols": {
    "lenName": 16,
    "lenType": 16,
    "lenVar": 40
   },
   "kernels_config": {
    "python": {
     "delete_cmd_postfix": "",
     "delete_cmd_prefix": "del ",
     "library": "var_list.py",
     "varRefreshCmd": "print(var_dic_list())"
    },
    "r": {
     "delete_cmd_postfix": ") ",
     "delete_cmd_prefix": "rm(",
     "library": "var_list.r",
     "varRefreshCmd": "cat(var_dic_list()) "
    }
   },
   "types_to_exclude": [
    "module",
    "function",
    "builtin_function_or_method",
    "instance",
    "_Feature"
   ],
   "window_display": false
  }
 },
 "nbformat": 4,
 "nbformat_minor": 5
}
